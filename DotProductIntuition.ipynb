{
  "nbformat": 4,
  "nbformat_minor": 0,
  "metadata": {
    "colab": {
      "provenance": [],
      "authorship_tag": "ABX9TyNIvtwfpfCtw1eNGz+WxYZU",
      "include_colab_link": true
    },
    "kernelspec": {
      "name": "python3",
      "display_name": "Python 3"
    },
    "language_info": {
      "name": "python"
    }
  },
  "cells": [
    {
      "cell_type": "markdown",
      "metadata": {
        "id": "view-in-github",
        "colab_type": "text"
      },
      "source": [
        "<a href=\"https://colab.research.google.com/github/SidU/LLMs-from-scratch/blob/main/DotProductIntuition.ipynb\" target=\"_parent\"><img src=\"https://colab.research.google.com/assets/colab-badge.svg\" alt=\"Open In Colab\"/></a>"
      ]
    },
    {
      "cell_type": "markdown",
      "source": [
        "# Understanding the Dot Product in Simple Terms\n",
        "\n",
        "The goal of this notebook is to build an intuitive understanding of the dot product, how it works, and why it’s useful—especially in applications like attention mechanisms in AI.\n",
        "\n",
        "---\n"
      ],
      "metadata": {
        "id": "ougfhY9bXcIB"
      }
    },
    {
      "cell_type": "markdown",
      "source": [
        "## What is the Dot Product?\n",
        "\n",
        "The dot product is a way to measure **similarity** between two vectors. It calculates how much the vectors align with each other.\n",
        "\n",
        "For two vectors A and B with components:\n",
        "\n",
        "$$\n",
        "A = [A_1, A_2, \\dots , A_n]\n",
        "$$\n",
        "\n",
        "$$\n",
        "B = [B_1, B_2, \\dots , B_n]\n",
        "$$\n",
        "\n",
        "The dot product is computed as:\n",
        "\n",
        "$$\n",
        "A \\cdot B = A_1 B_1 + A_2 B_2 + \\dots + A_n B_n\n",
        "$$\n",
        "\n",
        "### Intuition:\n",
        "\n",
        "- If the dot product is **positive**, the vectors point in similar directions.\n",
        "- If it's **zero**, the vectors are perpendicular (unrelated).\n",
        "- If it's **negative**, the vectors are pointing in opposite directions.\n"
      ],
      "metadata": {
        "id": "av3rlzs9Xfts"
      }
    },
    {
      "cell_type": "code",
      "source": [
        "import numpy as np\n",
        "\n",
        "# Define two vectors\n",
        "A = np.array([1, 2])\n",
        "B = np.array([3, 4])\n",
        "\n",
        "# Compute dot product manually\n",
        "dot_product = A[0] * B[0] + A[1] * B[1]\n",
        "\n",
        "# Using numpy's dot product function\n",
        "dot_product_numpy = np.dot(A, B)\n",
        "\n",
        "print(\"Manual Dot Product:\", dot_product)\n",
        "print(\"Numpy Dot Product:\", dot_product_numpy)"
      ],
      "metadata": {
        "colab": {
          "base_uri": "https://localhost:8080/"
        },
        "id": "QYZ9721xXxco",
        "outputId": "5e8d1675-3d79-4c64-99d4-99d4575bc856"
      },
      "execution_count": 1,
      "outputs": [
        {
          "output_type": "stream",
          "name": "stdout",
          "text": [
            "Manual Dot Product: 11\n",
            "Numpy Dot Product: 11\n"
          ]
        }
      ]
    },
    {
      "cell_type": "markdown",
      "source": [
        "## Geometric Interpretation of the Dot Product\n",
        "\n",
        "The dot product can also be written as:\n",
        "\n",
        "$$\n",
        "A \\cdot B = |A| |B| \\cos(\\theta)\n",
        "$$\n",
        "\n",
        "Where:\n",
        "\n",
        "- $ |A| $ and $ |B| $ are the magnitudes (lengths) of the vectors.\n",
        "- $ \\theta $ is the angle between them.\n",
        "- The term **$cos(\\theta)$** measures how aligned the vectors are.\n",
        "\n",
        "### Intuition:\n",
        "\n",
        "- If $ \\theta = 0 $ degrees (same direction), $ \\cos(\\theta) = 1 $ → Maximum alignment.\n",
        "- If $ \\theta = 90 $ degrees (perpendicular), $ \\cos(\\theta) = 0 $ → No alignment.\n",
        "- If $ \\theta = 180 $ degrees (opposite), $ \\cos(\\theta) = -1 $ → Maximum misalignment.\n"
      ],
      "metadata": {
        "id": "Z6E1jbPHX-BA"
      }
    },
    {
      "cell_type": "code",
      "source": [
        "C = np.array([-3, -4])"
      ],
      "metadata": {
        "id": "HPXvTGCDT6Od"
      },
      "execution_count": 6,
      "outputs": []
    },
    {
      "cell_type": "code",
      "source": [
        "import matplotlib.pyplot as plt\n",
        "import numpy as np\n",
        "\n",
        "def plot_vectors(v1, v2, label1=\"Vector 1\", label2=\"Vector 2\"):\n",
        "    \"\"\"\n",
        "    Function to plot two vectors v1 and v2 on a 2D plane with appropriate labels.\n",
        "    \"\"\"\n",
        "    plt.quiver(0, 0, v1[0], v1[1], angles='xy', scale_units='xy', scale=1, color='r', label=label1)\n",
        "    plt.quiver(0, 0, v2[0], v2[1], angles='xy', scale_units='xy', scale=1, color='b', label=label2)\n",
        "    plt.xlim(-5, 5)\n",
        "    plt.ylim(-5, 5)\n",
        "    plt.axhline(0, color='grey', linewidth=0.5)\n",
        "    plt.axvline(0, color='grey', linewidth=0.5)\n",
        "    plt.grid()\n",
        "    plt.legend()\n",
        "    plt.title(f\"{label1} vs {label2}\")\n",
        "    plt.show()\n",
        "\n",
        "# Define vector A\n",
        "A = np.array([1, 2])\n",
        "\n",
        "# Define and plot vector B (aligned with A)\n",
        "B = np.array([2, 4])  # Aligned direction\n",
        "print(\"Vector A:\", A)\n",
        "print(\"Vector B:\", B)\n",
        "plot_vectors(A, B, label1=\"A\", label2=\"B\")\n",
        "\n",
        "# Define and plot vector C (opposite direction of A)\n",
        "C = np.array([-2, -4])  # Opposite direction\n",
        "print(\"Vector A:\", A)\n",
        "print(\"Vector C:\", C)\n",
        "plot_vectors(A, C, label1=\"A\", label2=\"C\")\n",
        "\n",
        "# Define and plot vector D (perpendicular to A)\n",
        "D = np.array([-1, 1])  # Perpendicular direction\n",
        "print(\"Vector A:\", A)\n",
        "print(\"Vector D:\", D)\n",
        "plot_vectors(A, D, label1=\"A\", label2=\"D\")\n"
      ],
      "metadata": {
        "colab": {
          "base_uri": "https://localhost:8080/",
          "height": 1000
        },
        "id": "zR2-MsKeY1OD",
        "outputId": "f178d1fd-76c5-49fd-c6a6-194704e6fada"
      },
      "execution_count": 8,
      "outputs": [
        {
          "output_type": "stream",
          "name": "stdout",
          "text": [
            "Vector A: [1 2]\n",
            "Vector B: [2 4]\n"
          ]
        },
        {
          "output_type": "display_data",
          "data": {
            "text/plain": [
              "<Figure size 640x480 with 1 Axes>"
            ],
            "image/png": "[encoded data removed]"
          },
          "metadata": {}
        },
        {
          "output_type": "stream",
          "name": "stdout",
          "text": [
            "Vector A: [1 2]\n",
            "Vector C: [-2 -4]\n"
          ]
        },
        {
          "output_type": "display_data",
          "data": {
            "text/plain": [
              "<Figure size 640x480 with 1 Axes>"
            ],
            "image/png": "[encoded data removed]"
          },
          "metadata": {}
        },
        {
          "output_type": "stream",
          "name": "stdout",
          "text": [
            "Vector A: [1 2]\n",
            "Vector D: [-1  1]\n"
          ]
        },
        {
          "output_type": "display_data",
          "data": {
            "text/plain": [
              "<Figure size 640x480 with 1 Axes>"
            ],
            "image/png": "[encoded data removed]"
          },
          "metadata": {}
        }
      ]
    },
    {
      "cell_type": "markdown",
      "source": [
        "## Cosine Similarity and Normalized Dot Product\n",
        "\n",
        "If we normalize the vectors, the dot product simplifies to:\n",
        "\n",
        "$$\n",
        "\\cos(\\theta) = \\frac{A \\cdot B}{|A||B|}\n",
        "$$\n",
        "\n",
        "This gives us a value between -1 and 1, which tells us the direction alignment without considering vector magnitudes.\n",
        "\n",
        "- `cos(θ) ≈ 1` → Vectors are similar.\n",
        "- `cos(θ) ≈ 0` → Vectors are unrelated.\n",
        "- `cos(θ) ≈ -1` → Vectors are opposite.\n"
      ],
      "metadata": {
        "id": "iUdL-2WjY6tl"
      }
    },
    {
      "cell_type": "code",
      "source": [
        "def cosine_similarity(A, B):\n",
        "    dot_product = np.dot(A, B)\n",
        "    norm_A = np.linalg.norm(A)\n",
        "    norm_B = np.linalg.norm(B)\n",
        "    return dot_product / (norm_A * norm_B)\n",
        "\n",
        "A = np.array([1, 2])\n",
        "B = np.array([2, 4])  # Similar\n",
        "C = np.array([-2, -4])  # Opposite\n",
        "D = np.array([-1, 1])  # Perpendicular\n",
        "\n",
        "print(\"Cosine Similarity (A, B):\", cosine_similarity(A, B))\n",
        "print(\"Cosine Similarity (A, C):\", cosine_similarity(A, C))\n",
        "print(\"Cosine Similarity (A, D):\", cosine_similarity(A, D))\n"
      ],
      "metadata": {
        "colab": {
          "base_uri": "https://localhost:8080/"
        },
        "id": "cf6VqkqSZBnO",
        "outputId": "61d1d0b4-142f-4692-a78c-98ec67c752ed"
      },
      "execution_count": null,
      "outputs": [
        {
          "output_type": "stream",
          "name": "stdout",
          "text": [
            "Cosine Similarity (A, B): 0.9999999999999998\n",
            "Cosine Similarity (A, C): -0.9999999999999998\n",
            "Cosine Similarity (A, D): 0.31622776601683794\n"
          ]
        }
      ]
    },
    {
      "cell_type": "markdown",
      "source": [
        "## Why is the Dot Product Useful in Attention?\n",
        "\n",
        "In deep learning, attention mechanisms rely on the dot product to compare **queries** (what we're looking for) and **keys** (available information). The dot product allows the model to:\n",
        "\n",
        "1. Quickly measure **alignment** between words in text.\n",
        "2. Identify which words should receive more **focus**.\n",
        "3. Compute relationships efficiently in high-dimensional space.\n",
        "\n",
        "Example:\n",
        "\n",
        "- In the phrase **\"The cat sat on the mat\"**,\n",
        "  - The model calculates the dot product between words like \"cat\" and \"sat\" to understand their connection.\n",
        "  - Higher dot product → higher attention.\n"
      ],
      "metadata": {
        "id": "qyP1R7r1ZEvg"
      }
    },
    {
      "cell_type": "code",
      "source": [
        "# Simulating attention scores using dot product\n",
        "query = np.array([0.5, 0.5])\n",
        "key_1 = np.array([0.6, 0.6])  # Related\n",
        "key_2 = np.array([0.1, 0.9])  # Less related\n",
        "\n",
        "attn_score_1 = np.dot(query, key_1)\n",
        "attn_score_2 = np.dot(query, key_2)\n",
        "\n",
        "print(\"Attention Score (Query, Key 1):\", attn_score_1)\n",
        "print(\"Attention Score (Query, Key 2):\", attn_score_2)\n"
      ],
      "metadata": {
        "colab": {
          "base_uri": "https://localhost:8080/"
        },
        "id": "yUZIyHMwZHd_",
        "outputId": "a7fb46d4-1054-4100-fdc3-a0520f7afe46"
      },
      "execution_count": 5,
      "outputs": [
        {
          "output_type": "stream",
          "name": "stdout",
          "text": [
            "Attention Score (Query, Key 1): 0.6\n",
            "Attention Score (Query, Key 2): 0.5\n"
          ]
        }
      ]
    },
    {
      "cell_type": "markdown",
      "source": [
        "## How the Element-Wise Sum Reflects Alignment\n",
        "\n",
        "The dot product formula:\n",
        "\n",
        "$$\n",
        "A \\cdot B = A_1 B_1 + A_2 B_2 + ... + A_n B_n\n",
        "$$\n",
        "\n",
        "calculates the similarity between two vectors by multiplying corresponding elements and summing them up.\n",
        "\n",
        "### Why This Reflects Alignment:\n",
        "\n",
        "1. **Same Direction (Positive Contribution)**  \n",
        "   - If corresponding elements in the vectors have the **same sign** (both positive or both negative), their product is positive.  \n",
        "   - This means the vectors are pointing in a similar direction, resulting in a **high dot product value**, indicating strong alignment.  \n",
        "\n",
        "2. **Perpendicular Vectors (No Contribution)**  \n",
        "   - If vectors are perpendicular, their element-wise products cancel each other out.  \n",
        "   - This results in a dot product value of **zero**, meaning there is no alignment.\n",
        "\n",
        "3. **Opposite Direction (Negative Contribution)**  \n",
        "   - If corresponding elements have **opposite signs**, the product is negative.  \n",
        "   - This suggests the vectors are pointing in **opposite directions**, leading to a negative dot product, indicating misalignment.\n",
        "\n",
        "### Intuition:\n",
        "\n",
        "Instead of thinking of the dot product as just multiplying numbers, consider it as measuring **how much one vector \"projects\" onto another.**\n",
        "\n",
        "- A **larger dot product** means a greater projection (strong alignment).  \n",
        "- A **smaller dot product** means little to no projection (weak alignment).  \n",
        "\n",
        "### Example:\n",
        "\n",
        "Consider two vectors:\n",
        "\n",
        "$$\n",
        "A = [1, 2], \\quad B = [3, 4]\n",
        "$$\n",
        "\n",
        "The dot product calculation:\n",
        "\n",
        "$$\n",
        "(1 \\cdot 3) + (2 \\cdot 4) = 3 + 8 = 11\n",
        "$$\n",
        "\n",
        "Since all terms contribute positively, the vectors are pointing in a similar direction.\n",
        "\n",
        "Now consider:\n",
        "\n",
        "$$\n",
        "C = [-3, -4]\n",
        "$$\n",
        "\n",
        "$$\n",
        "(1 \\cdot -3) + (2 \\cdot -4) = -3 - 8 = -11\n",
        "$$\n",
        "\n",
        "The negative sum indicates opposite alignment.\n",
        "\n",
        "---\n",
        "\n",
        "### Conclusion:\n",
        "\n",
        "The element-wise sum reflects how much two vectors align by:\n",
        "\n",
        "- Adding up contributions when they point in the same direction.\n",
        "- Canceling contributions when they are orthogonal.\n",
        "- Subtracting contributions when they are opposite.\n",
        "\n",
        "This property makes the dot product a powerful tool for measuring similarity in machine learning models.\n"
      ],
      "metadata": {
        "id": "TV2eFJzKbNYd"
      }
    },
    {
      "cell_type": "markdown",
      "source": [
        "## Summary and Key Takeaways\n",
        "\n",
        "1. The dot product is a simple yet powerful tool for measuring **vector similarity**.\n",
        "2. It measures how aligned two vectors are based on their elements.\n",
        "3. The geometric interpretation tells us about the **direction** and relationship.\n",
        "4. In machine learning, attention mechanisms use dot products to determine the relevance of different tokens in a sequence.\n"
      ],
      "metadata": {
        "id": "3_fqD_LnZKNi"
      }
    }
  ]
}