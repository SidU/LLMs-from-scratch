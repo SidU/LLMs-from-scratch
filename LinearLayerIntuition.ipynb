{
  "nbformat": 4,
  "nbformat_minor": 0,
  "metadata": {
    "colab": {
      "provenance": [],
      "authorship_tag": "ABX9TyMT8zG4TKELNNFjKDi2QH3F",
      "include_colab_link": true
    },
    "kernelspec": {
      "name": "python3",
      "display_name": "Python 3"
    },
    "language_info": {
      "name": "python"
    }
  },
  "cells": [
    {
      "cell_type": "markdown",
      "metadata": {
        "id": "view-in-github",
        "colab_type": "text"
      },
      "source": [
        "<a href=\"https://colab.research.google.com/github/SidU/LLMs-from-scratch/blob/main/LinearLayerIntuition.ipynb\" target=\"_parent\"><img src=\"https://colab.research.google.com/assets/colab-badge.svg\" alt=\"Open In Colab\"/></a>"
      ]
    },
    {
      "cell_type": "markdown",
      "source": [
        "# 🔢 Understanding Linear Layers in PyTorch\n",
        "## What is a Linear Layer?\n",
        "A **linear layer** in a neural network applies the transformation:\n",
        "\n",
        "$Y = XW + b$\n",
        "\n",
        "where:\n",
        "- **X** = Input features (batch of data).\n",
        "- **W** = Weight matrix (learned parameters).\n",
        "- **b** = Bias vector (optional, also learned).\n",
        "- **Y** = Transformed output.\n",
        "\n",
        "### ✨ What We Will Do in This Notebook\n",
        "✅ Define a **linear layer in PyTorch**  \n",
        "✅ **Manually compute the transformation** step-by-step  \n",
        "✅ **Verify results using PyTorch**  \n",
        "✅ **Visualize how a linear transformation works**\n"
      ],
      "metadata": {
        "id": "qdimvk-AA6GD"
      }
    },
    {
      "cell_type": "markdown",
      "source": [
        "# Define a simple linear layer in PyTorch"
      ],
      "metadata": {
        "id": "PBV-BZICBEJj"
      }
    },
    {
      "cell_type": "code",
      "source": [
        "import torch\n",
        "import torch.nn as nn\n",
        "\n",
        "# Define a Linear Layer (2 input features → 3 output neurons)\n",
        "linear_layer = nn.Linear(in_features=2, out_features=3)\n",
        "\n",
        "# Check the shape of the weight matrix\n",
        "print(\"Weight Matrix Shape:\", linear_layer.weight.shape)  # Expected: (3,2)\n"
      ],
      "metadata": {
        "colab": {
          "base_uri": "https://localhost:8080/"
        },
        "id": "iPYyh4zABD4x",
        "outputId": "1f4a3334-d818-40d9-99c8-606ef6c993ee"
      },
      "execution_count": 2,
      "outputs": [
        {
          "output_type": "stream",
          "name": "stdout",
          "text": [
            "Weight Matrix Shape: torch.Size([3, 2])\n"
          ]
        }
      ]
    },
    {
      "cell_type": "markdown",
      "source": [
        "# Section 3: Manually Set Weights and Compute Output\n",
        "\n"
      ],
      "metadata": {
        "id": "U13VKUq6Ewhg"
      }
    },
    {
      "cell_type": "code",
      "execution_count": 4,
      "metadata": {
        "colab": {
          "base_uri": "https://localhost:8080/"
        },
        "id": "uRYLNFU9Az1_",
        "outputId": "2dbf4e2f-c340-4748-bea2-5258916ab308"
      },
      "outputs": [
        {
          "output_type": "stream",
          "name": "stdout",
          "text": [
            "Input (X): [[1. 2.]]\n",
            "Weights (W): [[ 0.5  1. ]\n",
            " [ 0.2 -0.3]\n",
            " [-0.5  0.8]]\n",
            "Bias (b): [ 0.1 -0.2  0.3]\n",
            "Output (Y): [[ 2.6       -0.6        1.4000001]]\n"
          ]
        }
      ],
      "source": [
        "import torch\n",
        "import torch.nn as nn\n",
        "\n",
        "# Define Linear Layer (2 input features → 3 output neurons)\n",
        "linear_layer = nn.Linear(in_features=2, out_features=3)\n",
        "\n",
        "# Define input tensor (1 sample, 2 features)\n",
        "X = torch.tensor([[1.0, 2.0]])\n",
        "\n",
        "# Manually set weights and bias for clear understanding\n",
        "with torch.no_grad():\n",
        "    linear_layer.weight = nn.Parameter(torch.tensor([[0.5, 1.0],  # Neuron 1\n",
        "                                                     [0.2, -0.3], # Neuron 2\n",
        "                                                     [-0.5, 0.8]])) # Neuron 3\n",
        "    linear_layer.bias = nn.Parameter(torch.tensor([0.1, -0.2, 0.3]))\n",
        "\n",
        "# Compute output\n",
        "output = linear_layer(X)\n",
        "\n",
        "# Print input, weights, bias, and output with .detach() to remove computation graph dependency\n",
        "print(\"Input (X):\", X.numpy())\n",
        "print(\"Weights (W):\", linear_layer.weight.detach().numpy())\n",
        "print(\"Bias (b):\", linear_layer.bias.detach().numpy())\n",
        "print(\"Output (Y):\", output.detach().numpy())\n"
      ]
    },
    {
      "cell_type": "markdown",
      "source": [
        "## 🤔 Why Is the Weight Matrix (3×2) Instead of (2×3)?\n",
        "Many people expect **2 rows and 3 columns** instead of **3 rows and 2 columns**.\n",
        "### But actually:\n",
        "- Each **row corresponds to an output neuron**.\n",
        "- Each **column corresponds to an input feature**.\n",
        "\n",
        "#### **Matrix Multiplication Step:**\n",
        "We compute:\n",
        "$\n",
        "Y = XW^T + b\n",
        "$\n",
        "\n",
        "For our input:\n",
        "$\n",
        "X = [1.0, 2.0]\n",
        "$\n",
        "\n",
        "**Step 1: Compute Weighted Sum**\n"
      ],
      "metadata": {
        "id": "gAQC2A2SFdZX"
      }
    },
    {
      "cell_type": "code",
      "source": [
        "# Manually compute Y = XW^T + b\n",
        "W = linear_layer.weight.detach().numpy()\n",
        "b = linear_layer.bias.detach().numpy()\n",
        "\n",
        "Y_manual = X.numpy().dot(W.T) + b\n",
        "\n",
        "# Print manual computation vs. PyTorch output\n",
        "print(\"Manually Computed Output:\", Y_manual)\n",
        "print(\"PyTorch Output:\", linear_layer(X).detach().numpy())"
      ],
      "metadata": {
        "colab": {
          "base_uri": "https://localhost:8080/"
        },
        "id": "zwANsHBeFcGx",
        "outputId": "914f3ddf-c989-48cb-a215-c17790fb4430"
      },
      "execution_count": 5,
      "outputs": [
        {
          "output_type": "stream",
          "name": "stdout",
          "text": [
            "Manually Computed Output: [[ 2.6       -0.6        1.4000001]]\n",
            "PyTorch Output: [[ 2.6       -0.6        1.4000001]]\n"
          ]
        }
      ]
    },
    {
      "cell_type": "markdown",
      "source": [
        "# Visualizing a linear transformation"
      ],
      "metadata": {
        "id": "fa0-VYNUG5Gw"
      }
    },
    {
      "cell_type": "code",
      "source": [
        "import numpy as np\n",
        "import matplotlib.pyplot as plt\n",
        "\n",
        "# Define a 2D space\n",
        "X_vals = np.array([[1, 1], [2, 2], [3, 3], [-1, -2]])\n",
        "W_vals = np.array([[1, -1], [0.5, 2]])\n",
        "b_vals = np.array([0, 0])\n",
        "\n",
        "# Compute transformed points\n",
        "Y_vals = X_vals @ W_vals.T + b_vals\n",
        "\n",
        "# Plot original points\n",
        "plt.figure(figsize=(8, 5))\n",
        "plt.scatter(X_vals[:, 0], X_vals[:, 1], color=\"red\", label=\"Original Inputs\")\n",
        "\n",
        "# Plot transformed points\n",
        "plt.scatter(Y_vals[:, 0], Y_vals[:, 1], color=\"blue\", label=\"Transformed Outputs\")\n",
        "\n",
        "# Draw arrows to show transformation\n",
        "for i in range(len(X_vals)):\n",
        "    plt.arrow(X_vals[i, 0], X_vals[i, 1],\n",
        "              Y_vals[i, 0] - X_vals[i, 0], Y_vals[i, 1] - X_vals[i, 1],\n",
        "              color=\"gray\", head_width=0.2)\n",
        "\n",
        "plt.axhline(0, color=\"black\", linewidth=0.5)\n",
        "plt.axvline(0, color=\"black\", linewidth=0.5)\n",
        "plt.grid()\n",
        "plt.legend()\n",
        "plt.title(\"Linear Transformation (XW + b)\")\n",
        "plt.show()\n"
      ],
      "metadata": {
        "colab": {
          "base_uri": "https://localhost:8080/",
          "height": 468
        },
        "id": "m4ufY_4MG7Dt",
        "outputId": "c8c7e3d7-8747-4372-ede4-08cfee93563e"
      },
      "execution_count": 6,
      "outputs": [
        {
          "output_type": "display_data",
          "data": {
            "text/plain": [
              "<Figure size 800x500 with 1 Axes>"
            ],
            "image/png": "[encoded data removed]"
          },
          "metadata": {}
        }
      ]
    },
    {
      "cell_type": "markdown",
      "source": [
        "## 🔥 What We Learned\n",
        "✅ A **linear layer** applies the transformation: **Y = XW + b**  \n",
        "✅ PyTorch handles this automatically using `nn.Linear(in_features, out_features)`.  \n",
        "✅ We **manually computed the transformation** step-by-step.  \n",
        "✅ We **visualized how linear transformations affect inputs.**  \n",
        "\n",
        "## 🚀 Next Steps\n",
        "Try experimenting by:\n",
        "- Changing `W` and `b` to see how transformations affect outputs.\n",
        "- Using a **larger dataset** to explore projections in **higher dimensions**.\n"
      ],
      "metadata": {
        "id": "DKlfIY50HH4C"
      }
    }
  ]
}