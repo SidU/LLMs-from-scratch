{
  "cells": [
    {
      "cell_type": "markdown",
      "metadata": {
        "id": "view-in-github",
        "colab_type": "text"
      },
      "source": [
        "<a href=\"https://colab.research.google.com/github/SidU/LLMs-from-scratch/blob/main/PyTorch_Tutorial_TypeScript_Engineers_with_Mapping.ipynb\" target=\"_parent\"><img src=\"https://colab.research.google.com/assets/colab-badge.svg\" alt=\"Open In Colab\"/></a>"
      ]
    },
    {
      "cell_type": "markdown",
      "id": "9000fcc6",
      "metadata": {
        "id": "9000fcc6"
      },
      "source": [
        "# PyTorch Introduction for TypeScript Engineers\n",
        "### A hands-on guide to understanding PyTorch through relatable concepts and code examples."
      ]
    },
    {
      "cell_type": "markdown",
      "id": "6a971bd8",
      "metadata": {
        "id": "6a971bd8"
      },
      "source": [
        "## 1. Getting Started with PyTorch\n",
        "PyTorch is a Python framework for building machine learning models. Let's install PyTorch and verify that it works in this notebook."
      ]
    },
    {
      "cell_type": "code",
      "execution_count": 1,
      "id": "67bfcf37",
      "metadata": {
        "colab": {
          "base_uri": "https://localhost:8080/"
        },
        "id": "67bfcf37",
        "outputId": "ade4de16-b09d-47e3-df7e-ec36420e33f6"
      },
      "outputs": [
        {
          "output_type": "stream",
          "name": "stdout",
          "text": [
            "Requirement already satisfied: torch in /usr/local/lib/python3.10/dist-packages (2.5.1+cu121)\n",
            "Requirement already satisfied: torchvision in /usr/local/lib/python3.10/dist-packages (0.20.1+cu121)\n",
            "Requirement already satisfied: filelock in /usr/local/lib/python3.10/dist-packages (from torch) (3.16.1)\n",
            "Requirement already satisfied: typing-extensions>=4.8.0 in /usr/local/lib/python3.10/dist-packages (from torch) (4.12.2)\n",
            "Requirement already satisfied: networkx in /usr/local/lib/python3.10/dist-packages (from torch) (3.4.2)\n",
            "Requirement already satisfied: jinja2 in /usr/local/lib/python3.10/dist-packages (from torch) (3.1.4)\n",
            "Requirement already satisfied: fsspec in /usr/local/lib/python3.10/dist-packages (from torch) (2024.10.0)\n",
            "Requirement already satisfied: sympy==1.13.1 in /usr/local/lib/python3.10/dist-packages (from torch) (1.13.1)\n",
            "Requirement already satisfied: mpmath<1.4,>=1.1.0 in /usr/local/lib/python3.10/dist-packages (from sympy==1.13.1->torch) (1.3.0)\n",
            "Requirement already satisfied: numpy in /usr/local/lib/python3.10/dist-packages (from torchvision) (1.26.4)\n",
            "Requirement already satisfied: pillow!=8.3.*,>=5.3.0 in /usr/local/lib/python3.10/dist-packages (from torchvision) (11.0.0)\n",
            "Requirement already satisfied: MarkupSafe>=2.0 in /usr/local/lib/python3.10/dist-packages (from jinja2->torch) (3.0.2)\n",
            "Using device: cpu\n"
          ]
        }
      ],
      "source": [
        "\n",
        "# Install PyTorch (already pre-installed in Colab, so this is optional)\n",
        "!pip install torch torchvision\n",
        "\n",
        "import torch\n",
        "\n",
        "# Check GPU availability\n",
        "device = torch.device(\"cuda\" if torch.cuda.is_available() else \"cpu\")\n",
        "print(f\"Using device: {device}\")\n"
      ]
    },
    {
      "cell_type": "markdown",
      "source": [
        "## 1.1 Introduction to Tensor Math Operations\n",
        "Tensors in PyTorch support two fundamental types of operations: element-wise operations and matrix operations. These concepts are essential for understanding how computations are performed in PyTorch.\n",
        "\n",
        "### 1.1.1. Element-Wise Addition\n",
        "Element-wise addition adds each corresponding element from two tensors of the same shape.\n",
        "\n",
        "For example:\n",
        "```\n",
        "Tensor A:\n",
        "[[1.0, 2.0],\n",
        " [3.0, 4.0]]\n",
        "\n",
        "Tensor B:\n",
        "[[1.0, 2.0],\n",
        " [3.0, 4.0]]\n",
        "```\n",
        "Element-wise addition:\n",
        "```\n",
        "[[1.0 + 1.0, 2.0 + 2.0],\n",
        " [3.0 + 3.0, 4.0 + 4.0]]\n",
        "\n",
        "Result:\n",
        "[[2.0, 4.0],\n",
        " [6.0, 8.0]]\n",
        "```\n",
        "\n",
        "### 1.1.2. Matrix Multiplication\n",
        "Matrix multiplication involves computing the dot product of rows from the first matrix with columns of the second matrix.\n",
        "\n",
        "For the same tensors:\n",
        "```\n",
        "Tensor A:\n",
        "[[1.0, 2.0],\n",
        " [3.0, 4.0]]\n",
        "\n",
        "Matrix multiplication:\n",
        "[[1.0 * 1.0 + 2.0 * 3.0, 1.0 * 2.0 + 2.0 * 4.0],\n",
        " [3.0 * 1.0 + 4.0 * 3.0, 3.0 * 2.0 + 4.0 * 4.0]]\n",
        "\n",
        "Result:\n",
        "[[ 7.0, 10.0],\n",
        " [15.0, 22.0]]\n",
        "```"
      ],
      "metadata": {
        "id": "naTKlZ16hKTf"
      },
      "id": "naTKlZ16hKTf"
    },
    {
      "cell_type": "markdown",
      "id": "59b91bb2",
      "metadata": {
        "id": "59b91bb2"
      },
      "source": [
        "## 2. Tensors: The Core Data Structure\n",
        "Tensors are multi-dimensional arrays, similar to `number[][]` in TypeScript. They are the foundation of all computations in PyTorch."
      ]
    },
    {
      "cell_type": "code",
      "execution_count": 4,
      "id": "6113fe37",
      "metadata": {
        "colab": {
          "base_uri": "https://localhost:8080/"
        },
        "id": "6113fe37",
        "outputId": "8170851e-7e2b-4d0b-c59b-ed0a32c84533"
      },
      "outputs": [
        {
          "output_type": "stream",
          "name": "stdout",
          "text": [
            "Tensor: tensor([[1., 2.],\n",
            "        [3., 4.]])\n",
            "Addition: tensor([[2., 4.],\n",
            "        [6., 8.]])\n",
            "Matrix multiplication: tensor([[ 7., 10.],\n",
            "        [15., 22.]])\n"
          ]
        }
      ],
      "source": [
        "\n",
        "# PyTorch Example: Create and manipulate tensors\n",
        "import torch\n",
        "\n",
        "# Create tensors\n",
        "tensor = torch.tensor([[1.0, 2.0], [3.0, 4.0]])\n",
        "print(\"Tensor:\", tensor)\n",
        "\n",
        "# Tensor operations\n",
        "print(\"Addition:\", tensor + tensor) # Add the tensor to itself\n",
        "print(\"Matrix multiplication:\", torch.matmul(tensor, tensor)) # Multiply the tensor with itself\n",
        "\n",
        "# Move tensor to GPU\n",
        "if torch.cuda.is_available():\n",
        "    tensor_gpu = tensor.to(device)\n",
        "    print(\"Tensor on GPU:\", tensor_gpu)\n"
      ]
    },
    {
      "cell_type": "markdown",
      "id": "58f158be",
      "metadata": {
        "id": "58f158be"
      },
      "source": [
        "### TypeScript Equivalent for Tensors\n",
        "In TypeScript, you can think of tensors as `number[][]` arrays. Here's an equivalent code snippet for the above operations:"
      ]
    },
    {
      "cell_type": "code",
      "execution_count": 2,
      "id": "94c2f380",
      "metadata": {
        "colab": {
          "base_uri": "https://localhost:8080/",
          "height": 108
        },
        "id": "94c2f380",
        "outputId": "c5f5ff76-e224-4b93-e64c-6f87f938dcf7"
      },
      "outputs": [
        {
          "output_type": "error",
          "ename": "SyntaxError",
          "evalue": "invalid decimal literal (<ipython-input-2-2ee01fd5cbc2>, line 1)",
          "traceback": [
            "\u001b[0;36m  File \u001b[0;32m\"<ipython-input-2-2ee01fd5cbc2>\"\u001b[0;36m, line \u001b[0;32m1\u001b[0m\n\u001b[0;31m    // TypeScript Example: Create and manipulate a 2D array\u001b[0m\n\u001b[0m                                                   ^\u001b[0m\n\u001b[0;31mSyntaxError\u001b[0m\u001b[0;31m:\u001b[0m invalid decimal literal\n"
          ]
        }
      ],
      "source": [
        "\n",
        "// TypeScript Example: Create and manipulate a 2D array\n",
        "\n",
        "const matrix: number[][] = [[1, 2], [3, 4]];\n",
        "console.log(\"Matrix:\n",
        "\", matrix);\n",
        "\n",
        "// Addition\n",
        "const addMatrix = matrix.map(row => row.map(value => value + value));\n",
        "console.log(\"Addition:\n",
        "\", addMatrix);\n",
        "\n",
        "// Matrix multiplication (manual example for simplicity)\n",
        "const multiplyMatrix = [\n",
        "    [\n",
        "        matrix[0][0] * matrix[0][0] + matrix[0][1] * matrix[1][0],\n",
        "        matrix[0][0] * matrix[0][1] + matrix[0][1] * matrix[1][1]\n",
        "    ],\n",
        "    [\n",
        "        matrix[1][0] * matrix[0][0] + matrix[1][1] * matrix[1][0],\n",
        "        matrix[1][0] * matrix[0][1] + matrix[1][1] * matrix[1][1]\n",
        "    ]\n",
        "];\n",
        "console.log(\"Matrix Multiplication:\n",
        "\", multiplyMatrix);\n"
      ]
    },
    {
      "cell_type": "markdown",
      "id": "bce735e4",
      "metadata": {
        "id": "bce735e4"
      },
      "source": [
        "## 3. Neural Networks as Classes\n",
        "Neural networks in PyTorch can be defined as classes, similar to how you would define a class in TypeScript. Each layer in the network corresponds to a property, and the forward pass is like a method that processes data."
      ]
    },
    {
      "cell_type": "code",
      "execution_count": null,
      "id": "a33c50e6",
      "metadata": {
        "id": "a33c50e6"
      },
      "outputs": [],
      "source": [
        "\n",
        "import torch.nn as nn\n",
        "\n",
        "# Define a simple neural network\n",
        "class SimpleNet(nn.Module):\n",
        "    def __init__(self):\n",
        "        super(SimpleNet, self).__init__()\n",
        "        self.linear = nn.Linear(1, 1)  # Single input, single output\n",
        "\n",
        "    def forward(self, x):\n",
        "        return self.linear(x)\n",
        "\n",
        "# Initialize the model\n",
        "model = SimpleNet()\n",
        "print(\"Model:\n",
        "\", model)\n"
      ]
    },
    {
      "cell_type": "markdown",
      "id": "630ec614",
      "metadata": {
        "id": "630ec614"
      },
      "source": [
        "### TypeScript Equivalent for a Neural Network\n",
        "A neural network in PyTorch can be thought of as a class in TypeScript with methods to process data:"
      ]
    },
    {
      "cell_type": "code",
      "execution_count": null,
      "id": "1039b715",
      "metadata": {
        "id": "1039b715"
      },
      "outputs": [],
      "source": [
        "\n",
        "// TypeScript Example: Define a simple class for a linear model\n",
        "\n",
        "class SimpleNet {\n",
        "    weight: number;\n",
        "\n",
        "    constructor(weight: number) {\n",
        "        this.weight = weight;\n",
        "    }\n",
        "\n",
        "    forward(input: number): number {\n",
        "        return this.weight * input; // Linear transformation\n",
        "    }\n",
        "}\n",
        "\n",
        "// Initialize and use the model\n",
        "const model = new SimpleNet(2);  // weight = 2\n",
        "console.log(\"Model Output:\n",
        "\", model.forward(3));  // Input = 3, Output = 6\n"
      ]
    },
    {
      "cell_type": "markdown",
      "id": "74f6bcd9",
      "metadata": {
        "id": "74f6bcd9"
      },
      "source": [
        "## 4. Training a Neural Network\n",
        "Training a neural network involves:\n",
        "1. **Forward pass**: Compute predictions.\n",
        "2. **Loss calculation**: Measure how far the predictions are from the target.\n",
        "3. **Backward pass**: Adjust weights using gradients.\n",
        "4. **Optimizer step**: Update the weights to minimize the loss."
      ]
    },
    {
      "cell_type": "code",
      "execution_count": null,
      "id": "f1d39e91",
      "metadata": {
        "id": "f1d39e91"
      },
      "outputs": [],
      "source": [
        "\n",
        "import torch.optim as optim\n",
        "\n",
        "# Training data: input (x) and target (y)\n",
        "inputs = torch.tensor([[1.0], [2.0], [3.0], [4.0]])\n",
        "targets = torch.tensor([[2.0], [4.0], [6.0], [8.0]])\n",
        "\n",
        "# Loss and optimizer\n",
        "criterion = nn.MSELoss()  # Mean Squared Error\n",
        "optimizer = optim.SGD(model.parameters(), lr=0.01)\n",
        "\n",
        "# Training loop\n",
        "for epoch in range(100):\n",
        "    optimizer.zero_grad()  # Reset gradients\n",
        "    outputs = model(inputs)  # Forward pass\n",
        "    loss = criterion(outputs, targets)  # Compute loss\n",
        "    loss.backward()  # Backward pass\n",
        "    optimizer.step()  # Update weights\n",
        "\n",
        "    if epoch % 10 == 0:\n",
        "        print(f\"Epoch {epoch}, Loss: {loss.item()}\")\n"
      ]
    },
    {
      "cell_type": "markdown",
      "id": "4122ce36",
      "metadata": {
        "id": "4122ce36"
      },
      "source": [
        "## 5. Wrap-Up\n",
        "### What you learned:\n",
        "- PyTorch makes machine learning intuitive and efficient.\n",
        "- Tensors are like multi-dimensional arrays but optimized for computation.\n",
        "- Neural networks are pipelines that process data in layers.\n",
        "- Training is an iterative feedback loop to improve predictions.\n",
        "\n",
        "### Next Steps:\n",
        "- Explore PyTorch tutorials: [https://pytorch.org/tutorials/](https://pytorch.org/tutorials/)\n",
        "- Try implementing a simple model, like classifying images or predicting values.\n"
      ]
    }
  ],
  "metadata": {
    "colab": {
      "provenance": [],
      "include_colab_link": true
    },
    "language_info": {
      "name": "python"
    },
    "kernelspec": {
      "name": "python3",
      "display_name": "Python 3"
    }
  },
  "nbformat": 4,
  "nbformat_minor": 5
}