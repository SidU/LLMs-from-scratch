{
  "cells": [
    {
      "cell_type": "markdown",
      "id": "1ae38945-39dd-45dc-ad4f-da7a4404241f",
      "metadata": {
        "id": "1ae38945-39dd-45dc-ad4f-da7a4404241f"
      },
      "source": [
        "<table style=\"width:100%\">\n",
        "<tr>\n",
        "<td style=\"vertical-align:middle; text-align:left;\">\n",
        "<font size=\"2\">\n",
        "Supplementary code for the <a href=\"http://mng.bz/orYv\">Build a Large Language Model From Scratch</a> book by <a href=\"https://sebastianraschka.com\">Sebastian Raschka</a><br>\n",
        "<br>Code repository: <a href=\"https://github.com/rasbt/LLMs-from-scratch\">https://github.com/rasbt/LLMs-from-scratch</a>\n",
        "</font>\n",
        "</td>\n",
        "<td style=\"vertical-align:middle; text-align:left;\">\n",
        "<a href=\"http://mng.bz/orYv\"><img src=\"https://sebastianraschka.com/images/LLMs-from-scratch-images/cover-small.webp\" width=\"100px\"></a>\n",
        "</td>\n",
        "</tr>\n",
        "</table>\n"
      ]
    },
    {
      "cell_type": "markdown",
      "id": "8bfa70ec-5c4c-40e8-b923-16f8167e3181",
      "metadata": {
        "id": "8bfa70ec-5c4c-40e8-b923-16f8167e3181"
      },
      "source": [
        "# Chapter 3: Coding Attention Mechanisms"
      ]
    },
    {
      "cell_type": "markdown",
      "id": "c29bcbe8-a034-43a2-b557-997b03c9882d",
      "metadata": {
        "id": "c29bcbe8-a034-43a2-b557-997b03c9882d"
      },
      "source": [
        "Packages that are being used in this notebook:"
      ]
    },
    {
      "cell_type": "code",
      "execution_count": 1,
      "id": "e58f33e8-5dc9-4dd5-ab84-5a011fa11d92",
      "metadata": {
        "id": "e58f33e8-5dc9-4dd5-ab84-5a011fa11d92",
        "outputId": "719673f7-1353-4c9a-e537-af9a87e926db",
        "colab": {
          "base_uri": "https://localhost:8080/"
        }
      },
      "outputs": [
        {
          "output_type": "stream",
          "name": "stdout",
          "text": [
            "torch version: 2.5.1+cu121\n"
          ]
        }
      ],
      "source": [
        "from importlib.metadata import version\n",
        "\n",
        "print(\"torch version:\", version(\"torch\"))"
      ]
    },
    {
      "cell_type": "markdown",
      "id": "a2a4474d-7c68-4846-8702-37906cf08197",
      "metadata": {
        "id": "a2a4474d-7c68-4846-8702-37906cf08197"
      },
      "source": [
        "- This chapter covers attention mechanisms, the engine of LLMs:"
      ]
    },
    {
      "cell_type": "markdown",
      "id": "02a11208-d9d3-44b1-8e0d-0c8414110b93",
      "metadata": {
        "id": "02a11208-d9d3-44b1-8e0d-0c8414110b93"
      },
      "source": [
        "<img src=\"https://sebastianraschka.com/images/LLMs-from-scratch-images/ch03_compressed/01.webp?123\" width=\"500px\">"
      ]
    },
    {
      "cell_type": "markdown",
      "id": "50e020fd-9690-4343-80df-da96678bef5e",
      "metadata": {
        "id": "50e020fd-9690-4343-80df-da96678bef5e"
      },
      "source": [
        "<img src=\"https://sebastianraschka.com/images/LLMs-from-scratch-images/ch03_compressed/02.webp\" width=\"600px\">"
      ]
    },
    {
      "cell_type": "markdown",
      "id": "ecc4dcee-34ea-4c05-9085-2f8887f70363",
      "metadata": {
        "id": "ecc4dcee-34ea-4c05-9085-2f8887f70363"
      },
      "source": [
        "## 3.1 The problem with modeling long sequences"
      ]
    },
    {
      "cell_type": "markdown",
      "id": "a55aa49c-36c2-48da-b1d9-70f416e46a6a",
      "metadata": {
        "id": "a55aa49c-36c2-48da-b1d9-70f416e46a6a"
      },
      "source": [
        "- No code in this section\n",
        "- Translating a text word by word isn't feasible due to the differences in grammatical structures between the source and target languages:"
      ]
    },
    {
      "cell_type": "markdown",
      "id": "55c0c433-aa4b-491e-848a-54905ebb05ad",
      "metadata": {
        "id": "55c0c433-aa4b-491e-848a-54905ebb05ad"
      },
      "source": [
        "<img src=\"https://sebastianraschka.com/images/LLMs-from-scratch-images/ch03_compressed/03.webp\" width=\"400px\">"
      ]
    },
    {
      "cell_type": "markdown",
      "id": "db03c48a-3429-48ea-9d4a-2e53b0e516b1",
      "metadata": {
        "id": "db03c48a-3429-48ea-9d4a-2e53b0e516b1"
      },
      "source": [
        "- Prior to the introduction of transformer models, encoder-decoder RNNs were commonly used for machine translation tasks\n",
        "- In this setup, the encoder processes a sequence of tokens from the source language, using a hidden state—a kind of intermediate layer within the neural network—to generate a condensed representation of the entire input sequence:"
      ]
    },
    {
      "cell_type": "markdown",
      "id": "03d8df2c-c1c2-4df0-9977-ade9713088b2",
      "metadata": {
        "id": "03d8df2c-c1c2-4df0-9977-ade9713088b2"
      },
      "source": [
        "<img src=\"https://sebastianraschka.com/images/LLMs-from-scratch-images/ch03_compressed/04.webp\" width=\"500px\">"
      ]
    },
    {
      "cell_type": "markdown",
      "id": "3602c585-b87a-41c7-a324-c5e8298849df",
      "metadata": {
        "id": "3602c585-b87a-41c7-a324-c5e8298849df"
      },
      "source": [
        "## 3.2 Capturing data dependencies with attention mechanisms"
      ]
    },
    {
      "cell_type": "markdown",
      "id": "b6fde64c-6034-421d-81d9-8244932086ea",
      "metadata": {
        "id": "b6fde64c-6034-421d-81d9-8244932086ea"
      },
      "source": [
        "- No code in this section\n",
        "- Through an attention mechanism, the text-generating decoder segment of the network is capable of selectively accessing all input tokens, implying that certain input tokens hold more significance than others in the generation of a specific output token:"
      ]
    },
    {
      "cell_type": "markdown",
      "id": "bc4f6293-8ab5-4aeb-a04c-50ee158485b1",
      "metadata": {
        "id": "bc4f6293-8ab5-4aeb-a04c-50ee158485b1"
      },
      "source": [
        "<img src=\"https://sebastianraschka.com/images/LLMs-from-scratch-images/ch03_compressed/05.webp\" width=\"500px\">"
      ]
    },
    {
      "cell_type": "markdown",
      "id": "8044be1f-e6a2-4a1f-a6dd-e325d3bad05e",
      "metadata": {
        "id": "8044be1f-e6a2-4a1f-a6dd-e325d3bad05e"
      },
      "source": [
        "- Self-attention in transformers is a technique designed to enhance input representations by enabling each position in a sequence to engage with and determine the relevance of every other position within the same sequence"
      ]
    },
    {
      "cell_type": "markdown",
      "id": "6565dc9f-b1be-4c78-b503-42ccc743296c",
      "metadata": {
        "id": "6565dc9f-b1be-4c78-b503-42ccc743296c"
      },
      "source": [
        "<img src=\"https://sebastianraschka.com/images/LLMs-from-scratch-images/ch03_compressed/06.webp\" width=\"300px\">"
      ]
    },
    {
      "cell_type": "markdown",
      "id": "5efe05ff-b441-408e-8d66-cde4eb3397e3",
      "metadata": {
        "id": "5efe05ff-b441-408e-8d66-cde4eb3397e3"
      },
      "source": [
        "## 3.3 Attending to different parts of the input with self-attention"
      ]
    },
    {
      "cell_type": "markdown",
      "id": "6d9af516-7c37-4400-ab53-34936d5495a9",
      "metadata": {
        "id": "6d9af516-7c37-4400-ab53-34936d5495a9"
      },
      "source": [
        "### 3.3.1 A simple self-attention mechanism without trainable weights"
      ]
    },
    {
      "cell_type": "markdown",
      "id": "d269e9f1-df11-4644-b575-df338cf46cdf",
      "metadata": {
        "id": "d269e9f1-df11-4644-b575-df338cf46cdf"
      },
      "source": [
        "- This section explains a very simplified variant of self-attention, which does not contain any trainable weights\n",
        "- This is purely for illustration purposes and NOT the attention mechanism that is used in transformers\n",
        "- The next section, section 3.3.2, will extend this simple attention mechanism to implement the real self-attention mechanism\n",
        "- Suppose we are given an input sequence $x^{(1)}$ to $x^{(T)}$\n",
        "  - The input is a text (for example, a sentence like \"Your journey starts with one step\") that has already been converted into token embeddings as described in chapter 2\n",
        "  - For instance, $x^{(1)}$ is a d-dimensional vector representing the word \"Your\", and so forth\n",
        "- **Goal:** compute context vectors $z^{(i)}$ for each input sequence element $x^{(i)}$ in $x^{(1)}$ to $x^{(T)}$ (where $z$ and $x$ have the same dimension)\n",
        "    - A context vector $z^{(i)}$ is a weighted sum over the inputs $x^{(1)}$ to $x^{(T)}$\n",
        "    - The context vector is \"context\"-specific to a certain input\n",
        "      - Instead of $x^{(i)}$ as a placeholder for an arbitrary input token, let's consider the second input, $x^{(2)}$\n",
        "      - And to continue with a concrete example, instead of the placeholder $z^{(i)}$, we consider the second output context vector, $z^{(2)}$\n",
        "      - The second context vector, $z^{(2)}$, is a weighted sum over all inputs $x^{(1)}$ to $x^{(T)}$ weighted with respect to the second input element, $x^{(2)}$\n",
        "      - The attention weights are the weights that determine how much each of the input elements contributes to the weighted sum when computing $z^{(2)}$\n",
        "      - In short, think of $z^{(2)}$ as a modified version of $x^{(2)}$ that also incorporates information about all other input elements that are relevant to a given task at hand"
      ]
    },
    {
      "cell_type": "markdown",
      "id": "fcc7c7a2-b6ab-478f-ae37-faa8eaa8049a",
      "metadata": {
        "id": "fcc7c7a2-b6ab-478f-ae37-faa8eaa8049a"
      },
      "source": [
        "<img src=\"https://sebastianraschka.com/images/LLMs-from-scratch-images/ch03_compressed/07.webp\" width=\"400px\">\n",
        "\n",
        "- (Please note that the numbers in this figure are truncated to one\n",
        "digit after the decimal point to reduce visual clutter; similarly, other figures may also contain truncated values)"
      ]
    },
    {
      "cell_type": "markdown",
      "id": "ff856c58-8382-44c7-827f-798040e6e697",
      "metadata": {
        "id": "ff856c58-8382-44c7-827f-798040e6e697"
      },
      "source": [
        "- By convention, the unnormalized attention weights are referred to as **\"attention scores\"** whereas the normalized attention scores, which sum to 1, are referred to as **\"attention weights\"**\n"
      ]
    },
    {
      "cell_type": "markdown",
      "id": "01b10344-128d-462a-823f-2178dff5fd58",
      "metadata": {
        "id": "01b10344-128d-462a-823f-2178dff5fd58"
      },
      "source": [
        "- The code below walks through the figure above step by step\n",
        "\n",
        "<br>\n",
        "\n",
        "- **Step 1:** compute unnormalized attention scores $\\omega$\n",
        "- Suppose we use the second input token as the query, that is, $q^{(2)} = x^{(2)}$, we compute the unnormalized attention scores via dot products:\n",
        "    - $\\omega_{21} = x^{(1)} q^{(2)\\top}$\n",
        "    - $\\omega_{22} = x^{(2)} q^{(2)\\top}$\n",
        "    - $\\omega_{23} = x^{(3)} q^{(2)\\top}$\n",
        "    - ...\n",
        "    - $\\omega_{2T} = x^{(T)} q^{(2)\\top}$\n",
        "- Above, $\\omega$ is the Greek letter \"omega\" used to symbolize the unnormalized attention scores\n",
        "    - The subscript \"21\" in $\\omega_{21}$ means that input sequence element 2 was used as a query against input sequence element 1"
      ]
    },
    {
      "cell_type": "markdown",
      "id": "35e55f7a-f2d0-4f24-858b-228e4fe88fb3",
      "metadata": {
        "id": "35e55f7a-f2d0-4f24-858b-228e4fe88fb3"
      },
      "source": [
        "- Suppose we have the following input sentence that is already embedded in 3-dimensional vectors as described in chapter 3 (we use a very small embedding dimension here for illustration purposes, so that it fits onto the page without line breaks):"
      ]
    },
    {
      "cell_type": "code",
      "execution_count": 2,
      "id": "22b9556a-aaf8-4ab4-a5b4-973372b0b2c3",
      "metadata": {
        "id": "22b9556a-aaf8-4ab4-a5b4-973372b0b2c3"
      },
      "outputs": [],
      "source": [
        "import torch\n",
        "\n",
        "inputs = torch.tensor(\n",
        "  [[0.43, 0.15, 0.89], # Your     (x^1)\n",
        "   [0.55, 0.87, 0.66], # journey  (x^2)\n",
        "   [0.57, 0.85, 0.64], # starts   (x^3)\n",
        "   [0.22, 0.58, 0.33], # with     (x^4)\n",
        "   [0.77, 0.25, 0.10], # one      (x^5)\n",
        "   [0.05, 0.80, 0.55]] # step     (x^6)\n",
        ")"
      ]
    },
    {
      "cell_type": "markdown",
      "id": "299baef3-b1a8-49ba-bad4-f62c8a416d83",
      "metadata": {
        "id": "299baef3-b1a8-49ba-bad4-f62c8a416d83"
      },
      "source": [
        "- (In this book, we follow the common machine learning and deep learning convention where training examples are represented as rows and feature values as columns; in the case of the tensor shown above, each row represents a word, and each column represents an embedding dimension)\n",
        "\n",
        "- The primary objective of this section is to demonstrate how the context vector $z^{(2)}$\n",
        "  is calculated using the second input sequence, $x^{(2)}$, as a query\n",
        "\n",
        "- The figure depicts the initial step in this process, which involves calculating the attention scores ω between $x^{(2)}$\n",
        "  and all other input elements through a dot product operation"
      ]
    },
    {
      "cell_type": "markdown",
      "id": "5cb3453a-58fa-42c4-b225-86850bc856f8",
      "metadata": {
        "id": "5cb3453a-58fa-42c4-b225-86850bc856f8"
      },
      "source": [
        "<img src=\"https://sebastianraschka.com/images/LLMs-from-scratch-images/ch03_compressed/08.webp\" width=\"400px\">"
      ]
    },
    {
      "cell_type": "markdown",
      "id": "77be52fb-82fd-4886-a4c8-f24a9c87af22",
      "metadata": {
        "id": "77be52fb-82fd-4886-a4c8-f24a9c87af22"
      },
      "source": [
        "- We use input sequence element 2, $x^{(2)}$, as an example to compute context vector $z^{(2)}$; later in this section, we will generalize this to compute all context vectors.\n",
        "- The first step is to compute the unnormalized attention scores by computing the dot product between the query $x^{(2)}$ and all other input tokens:"
      ]
    },
    {
      "cell_type": "code",
      "execution_count": 3,
      "id": "6fb5b2f8-dd2c-4a6d-94ef-a0e9ad163951",
      "metadata": {
        "id": "6fb5b2f8-dd2c-4a6d-94ef-a0e9ad163951",
        "outputId": "9d5547b8-7f53-4850-e3f4-29a21d745a00",
        "colab": {
          "base_uri": "https://localhost:8080/"
        }
      },
      "outputs": [
        {
          "output_type": "stream",
          "name": "stdout",
          "text": [
            "tensor([0.9544, 1.4950, 1.4754, 0.8434, 0.7070, 1.0865])\n"
          ]
        }
      ],
      "source": [
        "query = inputs[1]  # 2nd input token is the query\n",
        "\n",
        "attn_scores_2 = torch.empty(inputs.shape[0])\n",
        "for i, x_i in enumerate(inputs):\n",
        "    attn_scores_2[i] = torch.dot(x_i, query) # dot product (transpose not necessary here since they are 1-dim vectors)\n",
        "\n",
        "print(attn_scores_2)"
      ]
    },
    {
      "cell_type": "markdown",
      "id": "8df09ae0-199f-4b6f-81a0-2f70546684b8",
      "metadata": {
        "id": "8df09ae0-199f-4b6f-81a0-2f70546684b8"
      },
      "source": [
        "- Side note: a dot product is essentially a shorthand for multiplying two vectors elements-wise and summing the resulting products:"
      ]
    },
    {
      "cell_type": "code",
      "execution_count": 11,
      "id": "9842f39b-1654-410e-88bf-d1b899bf0241",
      "metadata": {
        "id": "9842f39b-1654-410e-88bf-d1b899bf0241",
        "outputId": "c89a4ad6-ed6d-4ab3-ba51-c6c11ffc4bb9",
        "colab": {
          "base_uri": "https://localhost:8080/"
        }
      },
      "outputs": [
        {
          "output_type": "stream",
          "name": "stdout",
          "text": [
            "idx: 0, element: 0.4300000071525574, query: 0.550000011920929\n",
            "idx: 1, element: 0.15000000596046448, query: 0.8700000047683716\n",
            "idx: 2, element: 0.8899999856948853, query: 0.6600000262260437\n",
            "tensor(0.9544)\n",
            "tensor(0.9544)\n"
          ]
        }
      ],
      "source": [
        "res = 0.\n",
        "\n",
        "for idx, element in enumerate(inputs[0]):\n",
        "    print(f\"idx: {idx}, element: {element}, query: {query[idx]}\")\n",
        "    res += inputs[0][idx] * query[idx]\n",
        "\n",
        "print(res)\n",
        "print(torch.dot(inputs[0], query))"
      ]
    },
    {
      "cell_type": "markdown",
      "id": "7d444d76-e19e-4e9a-a268-f315d966609b",
      "metadata": {
        "id": "7d444d76-e19e-4e9a-a268-f315d966609b"
      },
      "source": [
        "- **Step 2:** normalize the unnormalized attention scores (\"omegas\", $\\omega$) so that they sum up to 1\n",
        "- Here is a simple way to normalize the unnormalized attention scores to sum up to 1 (a convention, useful for interpretation, and important for training stability):"
      ]
    },
    {
      "cell_type": "markdown",
      "id": "dfd965d6-980c-476a-93d8-9efe603b1b3b",
      "metadata": {
        "id": "dfd965d6-980c-476a-93d8-9efe603b1b3b"
      },
      "source": [
        "<img src=\"https://sebastianraschka.com/images/LLMs-from-scratch-images/ch03_compressed/09.webp\" width=\"500px\">"
      ]
    },
    {
      "cell_type": "code",
      "execution_count": 5,
      "id": "e3ccc99c-33ce-4f11-b7f2-353cf1cbdaba",
      "metadata": {
        "id": "e3ccc99c-33ce-4f11-b7f2-353cf1cbdaba",
        "outputId": "c97d987b-6e5d-43ab-e30f-d9e48c42191b",
        "colab": {
          "base_uri": "https://localhost:8080/"
        }
      },
      "outputs": [
        {
          "output_type": "stream",
          "name": "stdout",
          "text": [
            "Attention weights: tensor([0.1455, 0.2278, 0.2249, 0.1285, 0.1077, 0.1656])\n",
            "Sum: tensor(1.0000)\n"
          ]
        }
      ],
      "source": [
        "attn_weights_2_tmp = attn_scores_2 / attn_scores_2.sum()\n",
        "\n",
        "print(\"Attention weights:\", attn_weights_2_tmp)\n",
        "print(\"Sum:\", attn_weights_2_tmp.sum())"
      ]
    },
    {
      "cell_type": "markdown",
      "id": "75dc0a57-f53e-41bf-8793-daa77a819431",
      "metadata": {
        "id": "75dc0a57-f53e-41bf-8793-daa77a819431"
      },
      "source": [
        "- However, in practice, using the softmax function for normalization, which is better at handling extreme values and has more desirable gradient properties during training, is common and recommended.\n",
        "- Here's a naive implementation of a softmax function for scaling, which also normalizes the vector elements such that they sum up to 1:"
      ]
    },
    {
      "cell_type": "code",
      "execution_count": 6,
      "id": "07b2e58d-a6ed-49f0-a1cd-2463e8d53a20",
      "metadata": {
        "id": "07b2e58d-a6ed-49f0-a1cd-2463e8d53a20",
        "outputId": "de6f4cfe-8de9-4118-b431-d3d5931b4028",
        "colab": {
          "base_uri": "https://localhost:8080/"
        }
      },
      "outputs": [
        {
          "output_type": "stream",
          "name": "stdout",
          "text": [
            "Attention weights: tensor([0.1385, 0.2379, 0.2333, 0.1240, 0.1082, 0.1581])\n",
            "Sum: tensor(1.)\n"
          ]
        }
      ],
      "source": [
        "def softmax_naive(x):\n",
        "    return torch.exp(x) / torch.exp(x).sum(dim=0)\n",
        "\n",
        "attn_weights_2_naive = softmax_naive(attn_scores_2)\n",
        "\n",
        "print(\"Attention weights:\", attn_weights_2_naive)\n",
        "print(\"Sum:\", attn_weights_2_naive.sum())"
      ]
    },
    {
      "cell_type": "markdown",
      "id": "f0a1cbbb-4744-41cb-8910-f5c1355555fb",
      "metadata": {
        "id": "f0a1cbbb-4744-41cb-8910-f5c1355555fb"
      },
      "source": [
        "- The naive implementation above can suffer from numerical instability issues for large or small input values due to overflow and underflow issues\n",
        "- Hence, in practice, it's recommended to use the PyTorch implementation of softmax instead, which has been highly optimized for performance:"
      ]
    },
    {
      "cell_type": "code",
      "execution_count": 7,
      "id": "2d99cac4-45ea-46b3-b3c1-e000ad16e158",
      "metadata": {
        "id": "2d99cac4-45ea-46b3-b3c1-e000ad16e158",
        "outputId": "a9dfeb2c-544a-44b7-ce99-b748c3abfbb4",
        "colab": {
          "base_uri": "https://localhost:8080/"
        }
      },
      "outputs": [
        {
          "output_type": "stream",
          "name": "stdout",
          "text": [
            "Attention weights: tensor([0.1385, 0.2379, 0.2333, 0.1240, 0.1082, 0.1581])\n",
            "Sum: tensor(1.)\n"
          ]
        }
      ],
      "source": [
        "attn_weights_2 = torch.softmax(attn_scores_2, dim=0)\n",
        "\n",
        "print(\"Attention weights:\", attn_weights_2)\n",
        "print(\"Sum:\", attn_weights_2.sum())"
      ]
    },
    {
      "cell_type": "markdown",
      "id": "e43e36c7-90b2-427f-94f6-bb9d31b2ab3f",
      "metadata": {
        "id": "e43e36c7-90b2-427f-94f6-bb9d31b2ab3f"
      },
      "source": [
        "- **Step 3**: compute the context vector $z^{(2)}$ by multiplying the embedded input tokens, $x^{(i)}$ with the attention weights and sum the resulting vectors:"
      ]
    },
    {
      "cell_type": "markdown",
      "id": "f1c9f5ac-8d3d-4847-94e3-fd783b7d4d3d",
      "metadata": {
        "id": "f1c9f5ac-8d3d-4847-94e3-fd783b7d4d3d"
      },
      "source": [
        "<img src=\"https://sebastianraschka.com/images/LLMs-from-scratch-images/ch03_compressed/10.webp\" width=\"500px\">"
      ]
    },
    {
      "cell_type": "code",
      "execution_count": 8,
      "id": "8fcb96f0-14e5-4973-a50e-79ea7c6af99f",
      "metadata": {
        "id": "8fcb96f0-14e5-4973-a50e-79ea7c6af99f",
        "outputId": "97471895-657f-4097-c8cb-5a1c36244888",
        "colab": {
          "base_uri": "https://localhost:8080/"
        }
      },
      "outputs": [
        {
          "output_type": "stream",
          "name": "stdout",
          "text": [
            "tensor([0.4419, 0.6515, 0.5683])\n"
          ]
        }
      ],
      "source": [
        "query = inputs[1] # 2nd input token is the query\n",
        "\n",
        "context_vec_2 = torch.zeros(query.shape)\n",
        "for i,x_i in enumerate(inputs):\n",
        "    context_vec_2 += attn_weights_2[i]*x_i\n",
        "\n",
        "print(context_vec_2)"
      ]
    },
    {
      "cell_type": "markdown",
      "source": [
        "![image.png](data:image/png;base64,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)"
      ],
      "metadata": {
        "id": "I1jVNXlODEAn"
      },
      "id": "I1jVNXlODEAn"
    },
    {
      "cell_type": "markdown",
      "id": "5a454262-40eb-430e-9ca4-e43fb8d6cd89",
      "metadata": {
        "id": "5a454262-40eb-430e-9ca4-e43fb8d6cd89"
      },
      "source": [
        "### 3.3.2 Computing attention weights for all input tokens"
      ]
    },
    {
      "cell_type": "markdown",
      "id": "6a02bb73-fc19-4c88-b155-8314de5d63a8",
      "metadata": {
        "id": "6a02bb73-fc19-4c88-b155-8314de5d63a8"
      },
      "source": [
        "#### Generalize to all input sequence tokens:\n",
        "\n",
        "- Above, we computed the attention weights and context vector for input 2 (as illustrated in the highlighted row in the figure below)\n",
        "- Next, we are generalizing this computation to compute all attention weights and context vectors"
      ]
    },
    {
      "cell_type": "markdown",
      "id": "11c0fb55-394f-42f4-ba07-d01ae5c98ab4",
      "metadata": {
        "id": "11c0fb55-394f-42f4-ba07-d01ae5c98ab4"
      },
      "source": [
        "<img src=\"https://sebastianraschka.com/images/LLMs-from-scratch-images/ch03_compressed/11.webp\" width=\"400px\">\n",
        "\n",
        "- (Please note that the numbers in this figure are truncated to two\n",
        "digits after the decimal point to reduce visual clutter; the values in each row should add up to 1.0 or 100%; similarly, digits in other figures are truncated)"
      ]
    },
    {
      "cell_type": "markdown",
      "id": "b789b990-fb51-4beb-9212-bf58876b5983",
      "metadata": {
        "id": "b789b990-fb51-4beb-9212-bf58876b5983"
      },
      "source": [
        "- In self-attention, the process starts with the calculation of attention scores, which are subsequently normalized to derive attention weights that total 1\n",
        "- These attention weights are then utilized to generate the context vectors through a weighted summation of the inputs"
      ]
    },
    {
      "cell_type": "markdown",
      "id": "d9bffe4b-56fe-4c37-9762-24bd924b7d3c",
      "metadata": {
        "id": "d9bffe4b-56fe-4c37-9762-24bd924b7d3c"
      },
      "source": [
        "<img src=\"https://sebastianraschka.com/images/LLMs-from-scratch-images/ch03_compressed/12.webp\" width=\"400px\">"
      ]
    },
    {
      "cell_type": "markdown",
      "id": "aa652506-f2c8-473c-a905-85c389c842cc",
      "metadata": {
        "id": "aa652506-f2c8-473c-a905-85c389c842cc"
      },
      "source": [
        "- Apply previous **step 1** to all pairwise elements to compute the unnormalized attention score matrix:"
      ]
    },
    {
      "cell_type": "code",
      "execution_count": 9,
      "id": "04004be8-07a1-468b-ab33-32e16a551b45",
      "metadata": {
        "id": "04004be8-07a1-468b-ab33-32e16a551b45",
        "outputId": "9dbe2427-72de-48e0-eab9-30e88ad56342",
        "colab": {
          "base_uri": "https://localhost:8080/"
        }
      },
      "outputs": [
        {
          "output_type": "stream",
          "name": "stdout",
          "text": [
            "tensor([[0.9995, 0.9544, 0.9422, 0.4753, 0.4576, 0.6310],\n",
            "        [0.9544, 1.4950, 1.4754, 0.8434, 0.7070, 1.0865],\n",
            "        [0.9422, 1.4754, 1.4570, 0.8296, 0.7154, 1.0605],\n",
            "        [0.4753, 0.8434, 0.8296, 0.4937, 0.3474, 0.6565],\n",
            "        [0.4576, 0.7070, 0.7154, 0.3474, 0.6654, 0.2935],\n",
            "        [0.6310, 1.0865, 1.0605, 0.6565, 0.2935, 0.9450]])\n"
          ]
        }
      ],
      "source": [
        "attn_scores = torch.empty(6, 6)\n",
        "\n",
        "for i, x_i in enumerate(inputs):\n",
        "    for j, x_j in enumerate(inputs):\n",
        "        attn_scores[i, j] = torch.dot(x_i, x_j)\n",
        "\n",
        "print(attn_scores)"
      ]
    },
    {
      "cell_type": "markdown",
      "id": "1539187f-1ece-47b7-bc9b-65a97115f1d4",
      "metadata": {
        "id": "1539187f-1ece-47b7-bc9b-65a97115f1d4"
      },
      "source": [
        "- We can achieve the same as above more efficiently via matrix multiplication:"
      ]
    },
    {
      "cell_type": "code",
      "execution_count": 10,
      "id": "2cea69d0-9a47-45da-8d5a-47ceef2df673",
      "metadata": {
        "id": "2cea69d0-9a47-45da-8d5a-47ceef2df673",
        "outputId": "aec3ce42-32f5-4960-fe50-da7f812fe9d0",
        "colab": {
          "base_uri": "https://localhost:8080/"
        }
      },
      "outputs": [
        {
          "output_type": "stream",
          "name": "stdout",
          "text": [
            "tensor([[0.9995, 0.9544, 0.9422, 0.4753, 0.4576, 0.6310],\n",
            "        [0.9544, 1.4950, 1.4754, 0.8434, 0.7070, 1.0865],\n",
            "        [0.9422, 1.4754, 1.4570, 0.8296, 0.7154, 1.0605],\n",
            "        [0.4753, 0.8434, 0.8296, 0.4937, 0.3474, 0.6565],\n",
            "        [0.4576, 0.7070, 0.7154, 0.3474, 0.6654, 0.2935],\n",
            "        [0.6310, 1.0865, 1.0605, 0.6565, 0.2935, 0.9450]])\n"
          ]
        }
      ],
      "source": [
        "attn_scores = inputs @ inputs.T\n",
        "print(attn_scores)"
      ]
    },
    {
      "cell_type": "markdown",
      "id": "02c4bac4-acfd-427f-9b11-c436ac71748d",
      "metadata": {
        "id": "02c4bac4-acfd-427f-9b11-c436ac71748d"
      },
      "source": [
        "- Similar to **step 2** previously, we normalize each row so that the values in each row sum to 1:"
      ]
    },
    {
      "cell_type": "code",
      "execution_count": 12,
      "id": "fa4ef062-de81-47ee-8415-bfe1708c81b8",
      "metadata": {
        "id": "fa4ef062-de81-47ee-8415-bfe1708c81b8",
        "outputId": "9d4452b7-342a-4310-b491-868b371ffef9",
        "colab": {
          "base_uri": "https://localhost:8080/"
        }
      },
      "outputs": [
        {
          "output_type": "stream",
          "name": "stdout",
          "text": [
            "tensor([[0.2098, 0.2006, 0.1981, 0.1242, 0.1220, 0.1452],\n",
            "        [0.1385, 0.2379, 0.2333, 0.1240, 0.1082, 0.1581],\n",
            "        [0.1390, 0.2369, 0.2326, 0.1242, 0.1108, 0.1565],\n",
            "        [0.1435, 0.2074, 0.2046, 0.1462, 0.1263, 0.1720],\n",
            "        [0.1526, 0.1958, 0.1975, 0.1367, 0.1879, 0.1295],\n",
            "        [0.1385, 0.2184, 0.2128, 0.1420, 0.0988, 0.1896]])\n"
          ]
        }
      ],
      "source": [
        "attn_weights = torch.softmax(attn_scores, dim=-1)\n",
        "print(attn_weights)"
      ]
    },
    {
      "cell_type": "markdown",
      "id": "3fa6d02b-7f15-4eb4-83a7-0b8a819e7a0c",
      "metadata": {
        "id": "3fa6d02b-7f15-4eb4-83a7-0b8a819e7a0c"
      },
      "source": [
        "- Quick verification that the values in each row indeed sum to 1:"
      ]
    },
    {
      "cell_type": "code",
      "execution_count": 13,
      "id": "112b492c-fb6f-4e6d-8df5-518ae83363d5",
      "metadata": {
        "id": "112b492c-fb6f-4e6d-8df5-518ae83363d5",
        "outputId": "bc2eb798-fb55-45fc-d3a5-12d80daca890",
        "colab": {
          "base_uri": "https://localhost:8080/"
        }
      },
      "outputs": [
        {
          "output_type": "stream",
          "name": "stdout",
          "text": [
            "Row 2 sum: 1.0\n",
            "All row sums: tensor([1.0000, 1.0000, 1.0000, 1.0000, 1.0000, 1.0000])\n"
          ]
        }
      ],
      "source": [
        "row_2_sum = sum([0.1385, 0.2379, 0.2333, 0.1240, 0.1082, 0.1581])\n",
        "print(\"Row 2 sum:\", row_2_sum)\n",
        "\n",
        "print(\"All row sums:\", attn_weights.sum(dim=-1))"
      ]
    },
    {
      "cell_type": "markdown",
      "id": "138b0b5c-d813-44c7-b373-fde9540ddfd1",
      "metadata": {
        "id": "138b0b5c-d813-44c7-b373-fde9540ddfd1"
      },
      "source": [
        "- Apply previous **step 3** to compute all context vectors:"
      ]
    },
    {
      "cell_type": "code",
      "execution_count": 14,
      "id": "ba8eafcf-f7f7-4989-b8dc-61b50c4f81dc",
      "metadata": {
        "id": "ba8eafcf-f7f7-4989-b8dc-61b50c4f81dc",
        "outputId": "d70d4dbd-59b7-4db8-9175-7011bf44b50e",
        "colab": {
          "base_uri": "https://localhost:8080/"
        }
      },
      "outputs": [
        {
          "output_type": "stream",
          "name": "stdout",
          "text": [
            "tensor([[0.4421, 0.5931, 0.5790],\n",
            "        [0.4419, 0.6515, 0.5683],\n",
            "        [0.4431, 0.6496, 0.5671],\n",
            "        [0.4304, 0.6298, 0.5510],\n",
            "        [0.4671, 0.5910, 0.5266],\n",
            "        [0.4177, 0.6503, 0.5645]])\n"
          ]
        }
      ],
      "source": [
        "all_context_vecs = attn_weights @ inputs\n",
        "print(all_context_vecs)"
      ]
    },
    {
      "cell_type": "markdown",
      "id": "25b245b8-7732-4fab-aa1c-e3d333195605",
      "metadata": {
        "id": "25b245b8-7732-4fab-aa1c-e3d333195605"
      },
      "source": [
        "- As a sanity check, the previously computed context vector $z^{(2)} = [0.4419, 0.6515, 0.5683]$ can be found in the 2nd row in above:"
      ]
    },
    {
      "cell_type": "code",
      "execution_count": null,
      "id": "2570eb7d-aee1-457a-a61e-7544478219fa",
      "metadata": {
        "id": "2570eb7d-aee1-457a-a61e-7544478219fa",
        "outputId": "f63d4a02-9d8d-43b7-cc03-532416c7dfd4"
      },
      "outputs": [
        {
          "name": "stdout",
          "output_type": "stream",
          "text": [
            "Previous 2nd context vector: tensor([0.4419, 0.6515, 0.5683])\n"
          ]
        }
      ],
      "source": [
        "print(\"Previous 2nd context vector:\", context_vec_2)"
      ]
    },
    {
      "cell_type": "markdown",
      "id": "a303b6fb-9f7e-42bb-9fdb-2adabf0a6525",
      "metadata": {
        "id": "a303b6fb-9f7e-42bb-9fdb-2adabf0a6525"
      },
      "source": [
        "## 3.4 Implementing self-attention with trainable weights"
      ]
    },
    {
      "cell_type": "markdown",
      "id": "88363117-93d8-41fb-8240-f7cfe08b14a3",
      "metadata": {
        "id": "88363117-93d8-41fb-8240-f7cfe08b14a3"
      },
      "source": [
        "- A conceptual framework illustrating how the self-attention mechanism developed in this section integrates into the overall narrative and structure of this book and chapter"
      ]
    },
    {
      "cell_type": "markdown",
      "id": "ac9492ba-6f66-4f65-bd1d-87cf16d59928",
      "metadata": {
        "id": "ac9492ba-6f66-4f65-bd1d-87cf16d59928"
      },
      "source": [
        "<img src=\"https://sebastianraschka.com/images/LLMs-from-scratch-images/ch03_compressed/13.webp\" width=\"400px\">"
      ]
    },
    {
      "cell_type": "markdown",
      "id": "2b90a77e-d746-4704-9354-1ddad86e6298",
      "metadata": {
        "id": "2b90a77e-d746-4704-9354-1ddad86e6298"
      },
      "source": [
        "### 3.4.1 Computing the attention weights step by step"
      ]
    },
    {
      "cell_type": "markdown",
      "id": "46e95a46-1f67-4b71-9e84-8e2db84ab036",
      "metadata": {
        "id": "46e95a46-1f67-4b71-9e84-8e2db84ab036"
      },
      "source": [
        "- In this section, we are implementing the self-attention mechanism that is used in the original transformer architecture, the GPT models, and most other popular LLMs\n",
        "- This self-attention mechanism is also called \"scaled dot-product attention\"\n",
        "- The overall idea is similar to before:\n",
        "  - We want to compute context vectors as weighted sums over the input vectors specific to a certain input element\n",
        "  - For the above, we need attention weights\n",
        "- As you will see, there are only slight differences compared to the basic attention mechanism introduced earlier:\n",
        "  - The most notable difference is the introduction of weight matrices that are updated during model training\n",
        "  - These trainable weight matrices are crucial so that the model (specifically, the attention module inside the model) can learn to produce \"good\" context vectors"
      ]
    },
    {
      "cell_type": "markdown",
      "id": "59db4093-93e8-4bee-be8f-c8fac8a08cdd",
      "metadata": {
        "id": "59db4093-93e8-4bee-be8f-c8fac8a08cdd"
      },
      "source": [
        "<img src=\"https://sebastianraschka.com/images/LLMs-from-scratch-images/ch03_compressed/14.webp\" width=\"600px\">"
      ]
    },
    {
      "cell_type": "markdown",
      "id": "4d996671-87aa-45c9-b2e0-07a7bcc9060a",
      "metadata": {
        "id": "4d996671-87aa-45c9-b2e0-07a7bcc9060a"
      },
      "source": [
        "- Implementing the self-attention mechanism step by step, we will start by introducing the three training weight matrices $W_q$, $W_k$, and $W_v$\n",
        "- These three matrices are used to project the embedded input tokens, $x^{(i)}$, into query, key, and value vectors via matrix multiplication:\n",
        "\n",
        "  - Query vector: $q^{(i)} = W_q \\,x^{(i)}$\n",
        "  - Key vector: $k^{(i)} = W_k \\,x^{(i)}$\n",
        "  - Value vector: $v^{(i)} = W_v \\,x^{(i)}$\n"
      ]
    },
    {
      "cell_type": "markdown",
      "id": "9f334313-5fd0-477b-8728-04080a427049",
      "metadata": {
        "id": "9f334313-5fd0-477b-8728-04080a427049"
      },
      "source": [
        "- The embedding dimensions of the input $x$ and the query vector $q$ can be the same or different, depending on the model's design and specific implementation\n",
        "- In GPT models, the input and output dimensions are usually the same, but for illustration purposes, to better follow the computation, we choose different input and output dimensions here:"
      ]
    },
    {
      "cell_type": "code",
      "execution_count": 15,
      "id": "8250fdc6-6cd6-4c5b-b9c0-8c643aadb7db",
      "metadata": {
        "id": "8250fdc6-6cd6-4c5b-b9c0-8c643aadb7db"
      },
      "outputs": [],
      "source": [
        "x_2 = inputs[1] # second input element\n",
        "d_in = inputs.shape[1] # the input embedding size, d=3\n",
        "d_out = 2 # the output embedding size, d=2"
      ]
    },
    {
      "cell_type": "markdown",
      "id": "f528cfb3-e226-47dd-b363-cc2caaeba4bf",
      "metadata": {
        "id": "f528cfb3-e226-47dd-b363-cc2caaeba4bf"
      },
      "source": [
        "- Below, we initialize the three weight matrices; note that we are setting `requires_grad=False` to reduce clutter in the outputs for illustration purposes, but if we were to use the weight matrices for model training, we would set `requires_grad=True` to update these matrices during model training"
      ]
    },
    {
      "cell_type": "code",
      "execution_count": 19,
      "id": "bfd7259a-f26c-4cea-b8fc-282b5cae1e00",
      "metadata": {
        "id": "bfd7259a-f26c-4cea-b8fc-282b5cae1e00",
        "outputId": "de4df37b-9aff-45b1-aec6-1929a675c842",
        "colab": {
          "base_uri": "https://localhost:8080/"
        }
      },
      "outputs": [
        {
          "output_type": "stream",
          "name": "stdout",
          "text": [
            "W_query: Parameter containing:\n",
            "tensor([[0.2961, 0.5166],\n",
            "        [0.2517, 0.6886],\n",
            "        [0.0740, 0.8665]])\n",
            "W_key: Parameter containing:\n",
            "tensor([[0.1366, 0.1025],\n",
            "        [0.1841, 0.7264],\n",
            "        [0.3153, 0.6871]])\n",
            "W_value: Parameter containing:\n",
            "tensor([[0.0756, 0.1966],\n",
            "        [0.3164, 0.4017],\n",
            "        [0.1186, 0.8274]])\n"
          ]
        }
      ],
      "source": [
        "torch.manual_seed(123)\n",
        "\n",
        "W_query = torch.nn.Parameter(torch.rand(d_in, d_out), requires_grad=False)\n",
        "W_key   = torch.nn.Parameter(torch.rand(d_in, d_out), requires_grad=False)\n",
        "W_value = torch.nn.Parameter(torch.rand(d_in, d_out), requires_grad=False)\n",
        "\n",
        "print(\"W_query:\", W_query)\n",
        "print(\"W_key:\", W_key)\n",
        "print(\"W_value:\", W_value)"
      ]
    },
    {
      "cell_type": "markdown",
      "id": "abfd0b50-7701-4adb-821c-e5433622d9c4",
      "metadata": {
        "id": "abfd0b50-7701-4adb-821c-e5433622d9c4"
      },
      "source": [
        "- Next we compute the query, key, and value vectors:"
      ]
    },
    {
      "cell_type": "code",
      "execution_count": 17,
      "id": "73cedd62-01e1-4196-a575-baecc6095601",
      "metadata": {
        "id": "73cedd62-01e1-4196-a575-baecc6095601",
        "outputId": "860cc3ed-4a25-4087-a46b-2cac8d08e52d",
        "colab": {
          "base_uri": "https://localhost:8080/"
        }
      },
      "outputs": [
        {
          "output_type": "stream",
          "name": "stdout",
          "text": [
            "tensor([0.4306, 1.4551])\n"
          ]
        }
      ],
      "source": [
        "query_2 = x_2 @ W_query # _2 because it's with respect to the 2nd input element\n",
        "key_2 = x_2 @ W_key\n",
        "value_2 = x_2 @ W_value\n",
        "\n",
        "print(query_2)"
      ]
    },
    {
      "cell_type": "markdown",
      "id": "9be308b3-aca3-421b-b182-19c3a03b71c7",
      "metadata": {
        "id": "9be308b3-aca3-421b-b182-19c3a03b71c7"
      },
      "source": [
        "- As we can see below, we successfully projected the 6 input tokens from a 3D onto a 2D embedding space:"
      ]
    },
    {
      "cell_type": "code",
      "execution_count": 18,
      "id": "8c1c3949-fc08-4d19-a41e-1c235b4e631b",
      "metadata": {
        "id": "8c1c3949-fc08-4d19-a41e-1c235b4e631b",
        "outputId": "e1df4972-769f-4992-dd1e-9093727ba7d3",
        "colab": {
          "base_uri": "https://localhost:8080/"
        }
      },
      "outputs": [
        {
          "output_type": "stream",
          "name": "stdout",
          "text": [
            "keys.shape: torch.Size([6, 2])\n",
            "values.shape: torch.Size([6, 2])\n"
          ]
        }
      ],
      "source": [
        "keys = inputs @ W_key\n",
        "values = inputs @ W_value\n",
        "\n",
        "print(\"keys.shape:\", keys.shape)\n",
        "print(\"values.shape:\", values.shape)"
      ]
    },
    {
      "cell_type": "markdown",
      "id": "bac5dfd6-ade8-4e7b-b0c1-bed40aa24481",
      "metadata": {
        "id": "bac5dfd6-ade8-4e7b-b0c1-bed40aa24481"
      },
      "source": [
        "- In the next step, **step 2**, we compute the unnormalized attention scores by computing the dot product between the query and each key vector:"
      ]
    },
    {
      "cell_type": "markdown",
      "id": "8ed0a2b7-5c50-4ede-90cf-7ad74412b3aa",
      "metadata": {
        "id": "8ed0a2b7-5c50-4ede-90cf-7ad74412b3aa"
      },
      "source": [
        "<img src=\"https://sebastianraschka.com/images/LLMs-from-scratch-images/ch03_compressed/15.webp\" width=\"600px\">"
      ]
    },
    {
      "cell_type": "code",
      "execution_count": 19,
      "id": "64cbc253-a182-4490-a765-246979ea0a28",
      "metadata": {
        "id": "64cbc253-a182-4490-a765-246979ea0a28",
        "outputId": "71771bbf-36ed-4f49-e0b8-fff479b5dc1d",
        "colab": {
          "base_uri": "https://localhost:8080/"
        }
      },
      "outputs": [
        {
          "output_type": "stream",
          "name": "stdout",
          "text": [
            "tensor(1.8524)\n"
          ]
        }
      ],
      "source": [
        "keys_2 = keys[1] # Python starts index at 0\n",
        "attn_score_22 = query_2.dot(keys_2)\n",
        "print(attn_score_22)"
      ]
    },
    {
      "cell_type": "markdown",
      "id": "9e9d15c0-c24e-4e6f-a160-6349b418f935",
      "metadata": {
        "id": "9e9d15c0-c24e-4e6f-a160-6349b418f935"
      },
      "source": [
        "- Since we have 6 inputs, we have 6 attention scores for the given query vector:"
      ]
    },
    {
      "cell_type": "code",
      "execution_count": 20,
      "id": "b14e44b5-d170-40f9-8847-8990804af26d",
      "metadata": {
        "id": "b14e44b5-d170-40f9-8847-8990804af26d",
        "outputId": "ff68276a-d6e0-4503-c701-0acc396d6c28",
        "colab": {
          "base_uri": "https://localhost:8080/"
        }
      },
      "outputs": [
        {
          "output_type": "stream",
          "name": "stdout",
          "text": [
            "tensor([1.2705, 1.8524, 1.8111, 1.0795, 0.5577, 1.5440])\n"
          ]
        }
      ],
      "source": [
        "attn_scores_2 = query_2 @ keys.T # All attention scores for given query\n",
        "print(attn_scores_2)"
      ]
    },
    {
      "cell_type": "markdown",
      "id": "8622cf39-155f-4eb5-a0c0-82a03ce9b999",
      "metadata": {
        "id": "8622cf39-155f-4eb5-a0c0-82a03ce9b999"
      },
      "source": [
        "<img src=\"https://sebastianraschka.com/images/LLMs-from-scratch-images/ch03_compressed/16.webp\" width=\"600px\">"
      ]
    },
    {
      "cell_type": "markdown",
      "id": "e1609edb-f089-461a-8de2-c20c1bb29836",
      "metadata": {
        "id": "e1609edb-f089-461a-8de2-c20c1bb29836"
      },
      "source": [
        "- Next, in **step 3**, we compute the attention weights (normalized attention scores that sum up to 1) using the softmax function we used earlier\n",
        "- The difference to earlier is that we now scale the attention scores by dividing them by the square root of the embedding dimension, $\\sqrt{d_k}$ (i.e., `d_k**0.5`):"
      ]
    },
    {
      "cell_type": "code",
      "execution_count": 21,
      "id": "146f5587-c845-4e30-9894-c7ed3a248153",
      "metadata": {
        "id": "146f5587-c845-4e30-9894-c7ed3a248153",
        "outputId": "716144ff-a3e4-4f9e-eb4b-9e7a46485878",
        "colab": {
          "base_uri": "https://localhost:8080/"
        }
      },
      "outputs": [
        {
          "output_type": "stream",
          "name": "stdout",
          "text": [
            "tensor([0.1500, 0.2264, 0.2199, 0.1311, 0.0906, 0.1820])\n"
          ]
        }
      ],
      "source": [
        "d_k = keys.shape[1]\n",
        "attn_weights_2 = torch.softmax(attn_scores_2 / d_k**0.5, dim=-1)\n",
        "print(attn_weights_2)"
      ]
    },
    {
      "cell_type": "markdown",
      "id": "b8f61a28-b103-434a-aee1-ae7cbd821126",
      "metadata": {
        "id": "b8f61a28-b103-434a-aee1-ae7cbd821126"
      },
      "source": [
        "<img src=\"https://sebastianraschka.com/images/LLMs-from-scratch-images/ch03_compressed/17.webp\" width=\"600px\">"
      ]
    },
    {
      "cell_type": "markdown",
      "id": "1890e3f9-db86-4ab8-9f3b-53113504a61f",
      "metadata": {
        "id": "1890e3f9-db86-4ab8-9f3b-53113504a61f"
      },
      "source": [
        "- In **step 4**, we now compute the context vector for input query vector 2:"
      ]
    },
    {
      "cell_type": "code",
      "execution_count": 22,
      "id": "e138f033-fa7e-4e3a-8764-b53a96b26397",
      "metadata": {
        "id": "e138f033-fa7e-4e3a-8764-b53a96b26397",
        "outputId": "7ec6aa0d-a7be-4c1d-de63-64694f86ff57",
        "colab": {
          "base_uri": "https://localhost:8080/"
        }
      },
      "outputs": [
        {
          "output_type": "stream",
          "name": "stdout",
          "text": [
            "tensor([0.3061, 0.8210])\n"
          ]
        }
      ],
      "source": [
        "context_vec_2 = attn_weights_2 @ values\n",
        "print(context_vec_2)"
      ]
    },
    {
      "cell_type": "markdown",
      "id": "9d7b2907-e448-473e-b46c-77735a7281d8",
      "metadata": {
        "id": "9d7b2907-e448-473e-b46c-77735a7281d8"
      },
      "source": [
        "### 3.4.2 Implementing a compact SelfAttention class"
      ]
    },
    {
      "cell_type": "markdown",
      "id": "04313410-3155-4d90-a7a3-2f3386e73677",
      "metadata": {
        "id": "04313410-3155-4d90-a7a3-2f3386e73677"
      },
      "source": [
        "- Putting it all together, we can implement the self-attention mechanism as follows:"
      ]
    },
    {
      "cell_type": "code",
      "execution_count": 23,
      "id": "51590326-cdbe-4e62-93b1-17df71c11ee4",
      "metadata": {
        "id": "51590326-cdbe-4e62-93b1-17df71c11ee4",
        "outputId": "e016581e-9c54-4e02-eb9c-946faf9da371",
        "colab": {
          "base_uri": "https://localhost:8080/"
        }
      },
      "outputs": [
        {
          "output_type": "stream",
          "name": "stdout",
          "text": [
            "tensor([[0.2996, 0.8053],\n",
            "        [0.3061, 0.8210],\n",
            "        [0.3058, 0.8203],\n",
            "        [0.2948, 0.7939],\n",
            "        [0.2927, 0.7891],\n",
            "        [0.2990, 0.8040]], grad_fn=<MmBackward0>)\n"
          ]
        }
      ],
      "source": [
        "import torch.nn as nn\n",
        "\n",
        "class SelfAttention_v1(nn.Module):\n",
        "\n",
        "    def __init__(self, d_in, d_out):\n",
        "        super().__init__()\n",
        "        self.W_query = nn.Parameter(torch.rand(d_in, d_out))\n",
        "        self.W_key   = nn.Parameter(torch.rand(d_in, d_out))\n",
        "        self.W_value = nn.Parameter(torch.rand(d_in, d_out))\n",
        "\n",
        "    def forward(self, x):\n",
        "        keys = x @ self.W_key\n",
        "        queries = x @ self.W_query\n",
        "        values = x @ self.W_value\n",
        "\n",
        "        attn_scores = queries @ keys.T # omega\n",
        "        attn_weights = torch.softmax(\n",
        "            attn_scores / keys.shape[-1]**0.5, dim=-1\n",
        "        )\n",
        "\n",
        "        context_vec = attn_weights @ values\n",
        "        return context_vec\n",
        "\n",
        "torch.manual_seed(123)\n",
        "sa_v1 = SelfAttention_v1(d_in, d_out)\n",
        "print(sa_v1(inputs))"
      ]
    },
    {
      "cell_type": "markdown",
      "id": "7ee1a024-84a5-425a-9567-54ab4e4ed445",
      "metadata": {
        "id": "7ee1a024-84a5-425a-9567-54ab4e4ed445"
      },
      "source": [
        "<img src=\"https://sebastianraschka.com/images/LLMs-from-scratch-images/ch03_compressed/18.webp\" width=\"400px\">"
      ]
    },
    {
      "cell_type": "markdown",
      "id": "048e0c16-d911-4ec8-b0bc-45ceec75c081",
      "metadata": {
        "id": "048e0c16-d911-4ec8-b0bc-45ceec75c081"
      },
      "source": [
        "- We can streamline the implementation above using PyTorch's Linear layers, which are equivalent to a matrix multiplication if we disable the bias units\n",
        "- Another big advantage of using `nn.Linear` over our manual `nn.Parameter(torch.rand(...)` approach is that `nn.Linear` has a preferred weight initialization scheme, which leads to more stable model training"
      ]
    },
    {
      "cell_type": "code",
      "execution_count": 24,
      "id": "73f411e3-e231-464a-89fe-0a9035e5f839",
      "metadata": {
        "id": "73f411e3-e231-464a-89fe-0a9035e5f839",
        "outputId": "81138499-b729-4f6a-a074-2276415d228a",
        "colab": {
          "base_uri": "https://localhost:8080/"
        }
      },
      "outputs": [
        {
          "output_type": "stream",
          "name": "stdout",
          "text": [
            "tensor([[-0.0739,  0.0713],\n",
            "        [-0.0748,  0.0703],\n",
            "        [-0.0749,  0.0702],\n",
            "        [-0.0760,  0.0685],\n",
            "        [-0.0763,  0.0679],\n",
            "        [-0.0754,  0.0693]], grad_fn=<MmBackward0>)\n"
          ]
        }
      ],
      "source": [
        "class SelfAttention_v2(nn.Module):\n",
        "\n",
        "    def __init__(self, d_in, d_out, qkv_bias=False):\n",
        "        super().__init__()\n",
        "        self.W_query = nn.Linear(d_in, d_out, bias=qkv_bias)\n",
        "        self.W_key   = nn.Linear(d_in, d_out, bias=qkv_bias)\n",
        "        self.W_value = nn.Linear(d_in, d_out, bias=qkv_bias)\n",
        "\n",
        "    def forward(self, x):\n",
        "        keys = self.W_key(x)\n",
        "        queries = self.W_query(x)\n",
        "        values = self.W_value(x)\n",
        "\n",
        "        attn_scores = queries @ keys.T\n",
        "        attn_weights = torch.softmax(attn_scores / keys.shape[-1]**0.5, dim=-1)\n",
        "\n",
        "        context_vec = attn_weights @ values\n",
        "        return context_vec\n",
        "\n",
        "torch.manual_seed(789)\n",
        "sa_v2 = SelfAttention_v2(d_in, d_out)\n",
        "print(sa_v2(inputs))"
      ]
    },
    {
      "cell_type": "markdown",
      "id": "915cd8a5-a895-42c9-8b8e-06b5ae19ffce",
      "metadata": {
        "id": "915cd8a5-a895-42c9-8b8e-06b5ae19ffce"
      },
      "source": [
        "- Note that `SelfAttention_v1` and `SelfAttention_v2` give different outputs because they use different initial weights for the weight matrices"
      ]
    },
    {
      "cell_type": "markdown",
      "id": "c5025b37-0f2c-4a67-a7cb-1286af7026ab",
      "metadata": {
        "id": "c5025b37-0f2c-4a67-a7cb-1286af7026ab"
      },
      "source": [
        "## 3.5 Hiding future words with causal attention"
      ]
    },
    {
      "cell_type": "markdown",
      "id": "aef0a6b8-205a-45bf-9d26-8fd77a8a03c3",
      "metadata": {
        "id": "aef0a6b8-205a-45bf-9d26-8fd77a8a03c3"
      },
      "source": [
        "- In causal attention, the attention weights above the diagonal are masked, ensuring that for any given input, the LLM is unable to utilize future tokens while calculating the context vectors with the attention weight"
      ]
    },
    {
      "cell_type": "markdown",
      "id": "71e91bb5-5aae-4f05-8a95-973b3f988a35",
      "metadata": {
        "id": "71e91bb5-5aae-4f05-8a95-973b3f988a35"
      },
      "source": [
        "<img src=\"https://sebastianraschka.com/images/LLMs-from-scratch-images/ch03_compressed/19.webp\" width=\"400px\">"
      ]
    },
    {
      "cell_type": "markdown",
      "id": "82f405de-cd86-4e72-8f3c-9ea0354946ba",
      "metadata": {
        "id": "82f405de-cd86-4e72-8f3c-9ea0354946ba"
      },
      "source": [
        "### 3.5.1 Applying a causal attention mask"
      ]
    },
    {
      "cell_type": "markdown",
      "id": "014f28d0-8218-48e4-8b9c-bdc5ce489218",
      "metadata": {
        "id": "014f28d0-8218-48e4-8b9c-bdc5ce489218"
      },
      "source": [
        "- In this section, we are converting the previous self-attention mechanism into a causal self-attention mechanism\n",
        "- Causal self-attention ensures that the model's prediction for a certain position in a sequence is only dependent on the known outputs at previous positions, not on future positions\n",
        "- In simpler words, this ensures that each next word prediction should only depend on the preceding words\n",
        "- To achieve this, for each given token, we mask out the future tokens (the ones that come after the current token in the input text):"
      ]
    },
    {
      "cell_type": "markdown",
      "id": "57f99af3-32bc-48f5-8eb4-63504670ca0a",
      "metadata": {
        "id": "57f99af3-32bc-48f5-8eb4-63504670ca0a"
      },
      "source": [
        "<img src=\"https://sebastianraschka.com/images/LLMs-from-scratch-images/ch03_compressed/20.webp\" width=\"600px\">"
      ]
    },
    {
      "cell_type": "markdown",
      "id": "cbfaec7a-68f2-4157-a4b5-2aeceed199d9",
      "metadata": {
        "id": "cbfaec7a-68f2-4157-a4b5-2aeceed199d9"
      },
      "source": [
        "- To illustrate and implement causal self-attention, let's work with the attention scores and weights from the previous section:"
      ]
    },
    {
      "cell_type": "code",
      "execution_count": 25,
      "id": "1933940d-0fa5-4b17-a3ce-388e5314a1bb",
      "metadata": {
        "id": "1933940d-0fa5-4b17-a3ce-388e5314a1bb",
        "outputId": "6c4fe28b-baf0-41fc-dc2c-1019ecac9d7e",
        "colab": {
          "base_uri": "https://localhost:8080/"
        }
      },
      "outputs": [
        {
          "output_type": "stream",
          "name": "stdout",
          "text": [
            "tensor([[0.1921, 0.1646, 0.1652, 0.1550, 0.1721, 0.1510],\n",
            "        [0.2041, 0.1659, 0.1662, 0.1496, 0.1665, 0.1477],\n",
            "        [0.2036, 0.1659, 0.1662, 0.1498, 0.1664, 0.1480],\n",
            "        [0.1869, 0.1667, 0.1668, 0.1571, 0.1661, 0.1564],\n",
            "        [0.1830, 0.1669, 0.1670, 0.1588, 0.1658, 0.1585],\n",
            "        [0.1935, 0.1663, 0.1666, 0.1542, 0.1666, 0.1529]],\n",
            "       grad_fn=<SoftmaxBackward0>)\n"
          ]
        }
      ],
      "source": [
        "# Reuse the query and key weight matrices of the\n",
        "# SelfAttention_v2 object from the previous section for convenience\n",
        "queries = sa_v2.W_query(inputs)\n",
        "keys = sa_v2.W_key(inputs)\n",
        "attn_scores = queries @ keys.T\n",
        "\n",
        "attn_weights = torch.softmax(attn_scores / keys.shape[-1]**0.5, dim=-1)\n",
        "print(attn_weights)"
      ]
    },
    {
      "cell_type": "markdown",
      "id": "89020a96-b34d-41f8-9349-98c3e23fd5d6",
      "metadata": {
        "id": "89020a96-b34d-41f8-9349-98c3e23fd5d6"
      },
      "source": [
        "- The simplest way to mask out future attention weights is by creating a mask via PyTorch's tril function with elements below the main diagonal (including the diagonal itself) set to 1 and above the main diagonal set to 0:"
      ]
    },
    {
      "cell_type": "code",
      "execution_count": 26,
      "id": "43f3d2e3-185b-4184-9f98-edde5e6df746",
      "metadata": {
        "id": "43f3d2e3-185b-4184-9f98-edde5e6df746",
        "outputId": "28ad3073-00ac-4f8a-dddc-e4705af768f1",
        "colab": {
          "base_uri": "https://localhost:8080/"
        }
      },
      "outputs": [
        {
          "output_type": "stream",
          "name": "stdout",
          "text": [
            "tensor([[1., 0., 0., 0., 0., 0.],\n",
            "        [1., 1., 0., 0., 0., 0.],\n",
            "        [1., 1., 1., 0., 0., 0.],\n",
            "        [1., 1., 1., 1., 0., 0.],\n",
            "        [1., 1., 1., 1., 1., 0.],\n",
            "        [1., 1., 1., 1., 1., 1.]])\n"
          ]
        }
      ],
      "source": [
        "context_length = attn_scores.shape[0]\n",
        "mask_simple = torch.tril(torch.ones(context_length, context_length))\n",
        "print(mask_simple)"
      ]
    },
    {
      "cell_type": "markdown",
      "id": "efce2b08-3583-44da-b3fc-cabdd38761f6",
      "metadata": {
        "id": "efce2b08-3583-44da-b3fc-cabdd38761f6"
      },
      "source": [
        "- Then, we can multiply the attention weights with this mask to zero out the attention scores above the diagonal:"
      ]
    },
    {
      "cell_type": "code",
      "execution_count": 27,
      "id": "9f531e2e-f4d2-4fea-a87f-4c132e48b9e7",
      "metadata": {
        "id": "9f531e2e-f4d2-4fea-a87f-4c132e48b9e7",
        "outputId": "503685c6-41ce-4bda-fe2c-e477e4855bec",
        "colab": {
          "base_uri": "https://localhost:8080/"
        }
      },
      "outputs": [
        {
          "output_type": "stream",
          "name": "stdout",
          "text": [
            "tensor([[0.1921, 0.0000, 0.0000, 0.0000, 0.0000, 0.0000],\n",
            "        [0.2041, 0.1659, 0.0000, 0.0000, 0.0000, 0.0000],\n",
            "        [0.2036, 0.1659, 0.1662, 0.0000, 0.0000, 0.0000],\n",
            "        [0.1869, 0.1667, 0.1668, 0.1571, 0.0000, 0.0000],\n",
            "        [0.1830, 0.1669, 0.1670, 0.1588, 0.1658, 0.0000],\n",
            "        [0.1935, 0.1663, 0.1666, 0.1542, 0.1666, 0.1529]],\n",
            "       grad_fn=<MulBackward0>)\n"
          ]
        }
      ],
      "source": [
        "masked_simple = attn_weights*mask_simple\n",
        "print(masked_simple)"
      ]
    },
    {
      "cell_type": "markdown",
      "id": "3eb35787-cf12-4024-b66d-e7215e175500",
      "metadata": {
        "id": "3eb35787-cf12-4024-b66d-e7215e175500"
      },
      "source": [
        "- However, if the mask were applied after softmax, like above, it would disrupt the probability distribution created by softmax\n",
        "- Softmax ensures that all output values sum to 1\n",
        "- Masking after softmax would require re-normalizing the outputs to sum to 1 again, which complicates the process and might lead to unintended effects"
      ]
    },
    {
      "cell_type": "markdown",
      "id": "94db92d7-c397-4e42-bd8a-6a2b3e237e0f",
      "metadata": {
        "id": "94db92d7-c397-4e42-bd8a-6a2b3e237e0f"
      },
      "source": [
        "- To make sure that the rows sum to 1, we can normalize the attention weights as follows:"
      ]
    },
    {
      "cell_type": "code",
      "execution_count": 28,
      "id": "6d392083-fd81-4f70-9bdf-8db985e673d6",
      "metadata": {
        "id": "6d392083-fd81-4f70-9bdf-8db985e673d6",
        "outputId": "acb8b0dc-038a-432a-80ba-5bca3015b5a2",
        "colab": {
          "base_uri": "https://localhost:8080/"
        }
      },
      "outputs": [
        {
          "output_type": "stream",
          "name": "stdout",
          "text": [
            "tensor([[1.0000, 0.0000, 0.0000, 0.0000, 0.0000, 0.0000],\n",
            "        [0.5517, 0.4483, 0.0000, 0.0000, 0.0000, 0.0000],\n",
            "        [0.3800, 0.3097, 0.3103, 0.0000, 0.0000, 0.0000],\n",
            "        [0.2758, 0.2460, 0.2462, 0.2319, 0.0000, 0.0000],\n",
            "        [0.2175, 0.1983, 0.1984, 0.1888, 0.1971, 0.0000],\n",
            "        [0.1935, 0.1663, 0.1666, 0.1542, 0.1666, 0.1529]],\n",
            "       grad_fn=<DivBackward0>)\n"
          ]
        }
      ],
      "source": [
        "row_sums = masked_simple.sum(dim=-1, keepdim=True)\n",
        "masked_simple_norm = masked_simple / row_sums\n",
        "print(masked_simple_norm)"
      ]
    },
    {
      "cell_type": "markdown",
      "id": "512e7cf4-dc0e-4cec-948e-c7a3c4eb6877",
      "metadata": {
        "id": "512e7cf4-dc0e-4cec-948e-c7a3c4eb6877"
      },
      "source": [
        "- While we are technically done with coding the causal attention mechanism now, let's briefly look at a more efficient approach to achieve the same as above\n",
        "- So, instead of zeroing out attention weights above the diagonal and renormalizing the results, we can mask the unnormalized attention scores above the diagonal with negative infinity before they enter the softmax function:"
      ]
    },
    {
      "cell_type": "markdown",
      "id": "eb682900-8df2-4767-946c-a82bee260188",
      "metadata": {
        "id": "eb682900-8df2-4767-946c-a82bee260188"
      },
      "source": [
        "<img src=\"https://sebastianraschka.com/images/LLMs-from-scratch-images/ch03_compressed/21.webp\" width=\"450px\">"
      ]
    },
    {
      "cell_type": "code",
      "execution_count": 29,
      "id": "a2be2f43-9cf0-44f6-8d8b-68ef2fb3cc39",
      "metadata": {
        "id": "a2be2f43-9cf0-44f6-8d8b-68ef2fb3cc39",
        "outputId": "b9df5767-ce78-468e-b2f3-799e65c0d2b4",
        "colab": {
          "base_uri": "https://localhost:8080/"
        }
      },
      "outputs": [
        {
          "output_type": "stream",
          "name": "stdout",
          "text": [
            "tensor([[0.2899,   -inf,   -inf,   -inf,   -inf,   -inf],\n",
            "        [0.4656, 0.1723,   -inf,   -inf,   -inf,   -inf],\n",
            "        [0.4594, 0.1703, 0.1731,   -inf,   -inf,   -inf],\n",
            "        [0.2642, 0.1024, 0.1036, 0.0186,   -inf,   -inf],\n",
            "        [0.2183, 0.0874, 0.0882, 0.0177, 0.0786,   -inf],\n",
            "        [0.3408, 0.1270, 0.1290, 0.0198, 0.1290, 0.0078]],\n",
            "       grad_fn=<MaskedFillBackward0>)\n"
          ]
        }
      ],
      "source": [
        "mask = torch.triu(torch.ones(context_length, context_length), diagonal=1)\n",
        "masked = attn_scores.masked_fill(mask.bool(), -torch.inf)\n",
        "print(masked)"
      ]
    },
    {
      "cell_type": "markdown",
      "id": "91d5f803-d735-4543-b9da-00ac10fb9c50",
      "metadata": {
        "id": "91d5f803-d735-4543-b9da-00ac10fb9c50"
      },
      "source": [
        "- As we can see below, now the attention weights in each row correctly sum to 1 again:"
      ]
    },
    {
      "cell_type": "code",
      "execution_count": 30,
      "id": "b1cd6d7f-16f2-43c1-915e-0824f1a4bc52",
      "metadata": {
        "id": "b1cd6d7f-16f2-43c1-915e-0824f1a4bc52",
        "outputId": "610a066f-2217-4c49-f1d5-00f84dd9fd0e",
        "colab": {
          "base_uri": "https://localhost:8080/"
        }
      },
      "outputs": [
        {
          "output_type": "stream",
          "name": "stdout",
          "text": [
            "tensor([[1.0000, 0.0000, 0.0000, 0.0000, 0.0000, 0.0000],\n",
            "        [0.5517, 0.4483, 0.0000, 0.0000, 0.0000, 0.0000],\n",
            "        [0.3800, 0.3097, 0.3103, 0.0000, 0.0000, 0.0000],\n",
            "        [0.2758, 0.2460, 0.2462, 0.2319, 0.0000, 0.0000],\n",
            "        [0.2175, 0.1983, 0.1984, 0.1888, 0.1971, 0.0000],\n",
            "        [0.1935, 0.1663, 0.1666, 0.1542, 0.1666, 0.1529]],\n",
            "       grad_fn=<SoftmaxBackward0>)\n"
          ]
        }
      ],
      "source": [
        "attn_weights = torch.softmax(masked / keys.shape[-1]**0.5, dim=-1)\n",
        "print(attn_weights)"
      ]
    },
    {
      "cell_type": "markdown",
      "id": "7636fc5f-6bc6-461e-ac6a-99ec8e3c0912",
      "metadata": {
        "id": "7636fc5f-6bc6-461e-ac6a-99ec8e3c0912"
      },
      "source": [
        "### 3.5.2 Masking additional attention weights with dropout"
      ]
    },
    {
      "cell_type": "markdown",
      "id": "ec3dc7ee-6539-4fab-804a-8f31a890c85a",
      "metadata": {
        "id": "ec3dc7ee-6539-4fab-804a-8f31a890c85a"
      },
      "source": [
        "- In addition, we also apply dropout to reduce overfitting during training\n",
        "- Dropout can be applied in several places:\n",
        "  - for example, after computing the attention weights;\n",
        "  - or after multiplying the attention weights with the value vectors\n",
        "- Here, we will apply the dropout mask after computing the attention weights because it's more common\n",
        "\n",
        "- Furthermore, in this specific example, we use a dropout rate of 50%, which means randomly masking out half of the attention weights. (When we train the GPT model later, we will use a lower dropout rate, such as 0.1 or 0.2"
      ]
    },
    {
      "cell_type": "markdown",
      "id": "ee799cf6-6175-45f2-827e-c174afedb722",
      "metadata": {
        "id": "ee799cf6-6175-45f2-827e-c174afedb722"
      },
      "source": [
        "<img src=\"https://sebastianraschka.com/images/LLMs-from-scratch-images/ch03_compressed/22.webp\" width=\"400px\">"
      ]
    },
    {
      "cell_type": "markdown",
      "id": "5a575458-a6da-4e54-8688-83e155f2de06",
      "metadata": {
        "id": "5a575458-a6da-4e54-8688-83e155f2de06"
      },
      "source": [
        "- If we apply a dropout rate of 0.5 (50%), the non-dropped values will be scaled accordingly by a factor of 1/0.5 = 2\n",
        "- The scaling is calculated by the formula 1 / (1 - `dropout_rate`)"
      ]
    },
    {
      "cell_type": "code",
      "execution_count": 31,
      "id": "0de578db-8289-41d6-b377-ef645751e33f",
      "metadata": {
        "id": "0de578db-8289-41d6-b377-ef645751e33f",
        "outputId": "b1c2ea87-aa56-4786-b7f1-acded3ec75a5",
        "colab": {
          "base_uri": "https://localhost:8080/"
        }
      },
      "outputs": [
        {
          "output_type": "stream",
          "name": "stdout",
          "text": [
            "tensor([[2., 2., 2., 2., 2., 2.],\n",
            "        [0., 2., 0., 0., 0., 0.],\n",
            "        [0., 0., 2., 0., 2., 0.],\n",
            "        [2., 2., 0., 0., 0., 2.],\n",
            "        [2., 0., 0., 0., 0., 2.],\n",
            "        [0., 2., 0., 0., 0., 0.]])\n"
          ]
        }
      ],
      "source": [
        "torch.manual_seed(123)\n",
        "dropout = torch.nn.Dropout(0.5) # dropout rate of 50%\n",
        "example = torch.ones(6, 6) # create a matrix of ones\n",
        "\n",
        "print(dropout(example))"
      ]
    },
    {
      "cell_type": "code",
      "execution_count": 32,
      "id": "b16c5edb-942b-458c-8e95-25e4e355381e",
      "metadata": {
        "id": "b16c5edb-942b-458c-8e95-25e4e355381e",
        "outputId": "9a652ec3-4ed3-4ed6-edd7-ce945cc2e9a5",
        "colab": {
          "base_uri": "https://localhost:8080/"
        }
      },
      "outputs": [
        {
          "output_type": "stream",
          "name": "stdout",
          "text": [
            "tensor([[2.0000, 0.0000, 0.0000, 0.0000, 0.0000, 0.0000],\n",
            "        [0.0000, 0.8966, 0.0000, 0.0000, 0.0000, 0.0000],\n",
            "        [0.0000, 0.0000, 0.6206, 0.0000, 0.0000, 0.0000],\n",
            "        [0.5517, 0.4921, 0.0000, 0.0000, 0.0000, 0.0000],\n",
            "        [0.4350, 0.0000, 0.0000, 0.0000, 0.0000, 0.0000],\n",
            "        [0.0000, 0.3327, 0.0000, 0.0000, 0.0000, 0.0000]],\n",
            "       grad_fn=<MulBackward0>)\n"
          ]
        }
      ],
      "source": [
        "torch.manual_seed(123)\n",
        "print(dropout(attn_weights))"
      ]
    },
    {
      "cell_type": "markdown",
      "id": "269df5c8-3e25-49d0-95d3-bb232287404f",
      "metadata": {
        "id": "269df5c8-3e25-49d0-95d3-bb232287404f"
      },
      "source": [
        "- Note that the resulting dropout outputs may look different depending on your operating system; you can read more about this inconsistency [here on the PyTorch issue tracker](https://github.com/pytorch/pytorch/issues/121595)"
      ]
    },
    {
      "cell_type": "markdown",
      "id": "cdc14639-5f0f-4840-aa9d-8eb36ea90fb7",
      "metadata": {
        "id": "cdc14639-5f0f-4840-aa9d-8eb36ea90fb7"
      },
      "source": [
        "### 3.5.3 Implementing a compact causal self-attention class"
      ]
    },
    {
      "cell_type": "markdown",
      "id": "09c41d29-1933-43dc-ada6-2dbb56287204",
      "metadata": {
        "id": "09c41d29-1933-43dc-ada6-2dbb56287204"
      },
      "source": [
        "- Now, we are ready to implement a working implementation of self-attention, including the causal and dropout masks\n",
        "- One more thing is to implement the code to handle batches consisting of more than one input so that our `CausalAttention` class supports the batch outputs produced by the data loader we implemented in chapter 2\n",
        "- For simplicity, to simulate such batch input, we duplicate the input text example:"
      ]
    },
    {
      "cell_type": "code",
      "execution_count": 34,
      "id": "977a5fa7-a9d5-4e2e-8a32-8e0331ccfe28",
      "metadata": {
        "id": "977a5fa7-a9d5-4e2e-8a32-8e0331ccfe28",
        "outputId": "e609d23e-314c-4bbf-ea78-0760a11873bf",
        "colab": {
          "base_uri": "https://localhost:8080/"
        }
      },
      "outputs": [
        {
          "output_type": "stream",
          "name": "stdout",
          "text": [
            "torch.Size([2, 6, 3])\n"
          ]
        }
      ],
      "source": [
        "batch = torch.stack((inputs, inputs), dim=0)\n",
        "print(batch.shape) # 2 inputs with 6 tokens each, and each token has embedding dimension 3"
      ]
    },
    {
      "cell_type": "code",
      "execution_count": 35,
      "id": "60d8c2eb-2d8e-4d2c-99bc-9eef8cc53ca0",
      "metadata": {
        "id": "60d8c2eb-2d8e-4d2c-99bc-9eef8cc53ca0",
        "outputId": "6317e5e0-cd3b-4863-c1ab-46714a3384ba",
        "colab": {
          "base_uri": "https://localhost:8080/"
        }
      },
      "outputs": [
        {
          "output_type": "stream",
          "name": "stdout",
          "text": [
            "tensor([[[-0.4519,  0.2216],\n",
            "         [-0.5874,  0.0058],\n",
            "         [-0.6300, -0.0632],\n",
            "         [-0.5675, -0.0843],\n",
            "         [-0.5526, -0.0981],\n",
            "         [-0.5299, -0.1081]],\n",
            "\n",
            "        [[-0.4519,  0.2216],\n",
            "         [-0.5874,  0.0058],\n",
            "         [-0.6300, -0.0632],\n",
            "         [-0.5675, -0.0843],\n",
            "         [-0.5526, -0.0981],\n",
            "         [-0.5299, -0.1081]]], grad_fn=<UnsafeViewBackward0>)\n",
            "context_vecs.shape: torch.Size([2, 6, 2])\n"
          ]
        }
      ],
      "source": [
        "class CausalAttention(nn.Module):\n",
        "\n",
        "    def __init__(self, d_in, d_out, context_length,\n",
        "                 dropout, qkv_bias=False):\n",
        "        super().__init__()\n",
        "        self.d_out = d_out\n",
        "        self.W_query = nn.Linear(d_in, d_out, bias=qkv_bias)\n",
        "        self.W_key   = nn.Linear(d_in, d_out, bias=qkv_bias)\n",
        "        self.W_value = nn.Linear(d_in, d_out, bias=qkv_bias)\n",
        "        self.dropout = nn.Dropout(dropout) # New\n",
        "        self.register_buffer('mask', torch.triu(torch.ones(context_length, context_length), diagonal=1)) # New\n",
        "\n",
        "    def forward(self, x):\n",
        "        b, num_tokens, d_in = x.shape # New batch dimension b\n",
        "        keys = self.W_key(x)\n",
        "        queries = self.W_query(x)\n",
        "        values = self.W_value(x)\n",
        "\n",
        "        attn_scores = queries @ keys.transpose(1, 2) # Changed transpose\n",
        "        attn_scores.masked_fill_(  # New, _ ops are in-place\n",
        "            self.mask.bool()[:num_tokens, :num_tokens], -torch.inf)  # `:num_tokens` to account for cases where the number of tokens in the batch is smaller than the supported context_size\n",
        "        attn_weights = torch.softmax(\n",
        "            attn_scores / keys.shape[-1]**0.5, dim=-1\n",
        "        )\n",
        "        attn_weights = self.dropout(attn_weights) # New\n",
        "\n",
        "        context_vec = attn_weights @ values\n",
        "        return context_vec\n",
        "\n",
        "torch.manual_seed(123)\n",
        "\n",
        "context_length = batch.shape[1]\n",
        "ca = CausalAttention(d_in, d_out, context_length, 0.0)\n",
        "\n",
        "context_vecs = ca(batch)\n",
        "\n",
        "print(context_vecs)\n",
        "print(\"context_vecs.shape:\", context_vecs.shape)"
      ]
    },
    {
      "cell_type": "markdown",
      "id": "c4333d12-17e4-4bb5-9d83-54b3a32618cd",
      "metadata": {
        "id": "c4333d12-17e4-4bb5-9d83-54b3a32618cd"
      },
      "source": [
        "- Note that dropout is only applied during training, not during inference"
      ]
    },
    {
      "cell_type": "markdown",
      "id": "a554cf47-558c-4f45-84cd-bf9b839a8d50",
      "metadata": {
        "id": "a554cf47-558c-4f45-84cd-bf9b839a8d50"
      },
      "source": [
        "<img src=\"https://sebastianraschka.com/images/LLMs-from-scratch-images/ch03_compressed/23.webp\" width=\"500px\">"
      ]
    },
    {
      "cell_type": "markdown",
      "id": "c8bef90f-cfd4-4289-b0e8-6a00dc9be44c",
      "metadata": {
        "id": "c8bef90f-cfd4-4289-b0e8-6a00dc9be44c"
      },
      "source": [
        "## 3.6 Extending single-head attention to multi-head attention"
      ]
    },
    {
      "cell_type": "markdown",
      "id": "11697757-9198-4a1c-9cee-f450d8bbd3b9",
      "metadata": {
        "id": "11697757-9198-4a1c-9cee-f450d8bbd3b9"
      },
      "source": [
        "### 3.6.1 Stacking multiple single-head attention layers"
      ]
    },
    {
      "cell_type": "markdown",
      "id": "70766faf-cd53-41d9-8a17-f1b229756a5a",
      "metadata": {
        "id": "70766faf-cd53-41d9-8a17-f1b229756a5a"
      },
      "source": [
        "- Below is a summary of the self-attention implemented previously (causal and dropout masks not shown for simplicity)\n",
        "\n",
        "- This is also called single-head attention:\n",
        "\n",
        "<img src=\"https://sebastianraschka.com/images/LLMs-from-scratch-images/ch03_compressed/24.webp\" width=\"400px\">\n",
        "\n",
        "- We simply stack multiple single-head attention modules to obtain a multi-head attention module:\n",
        "\n",
        "<img src=\"https://sebastianraschka.com/images/LLMs-from-scratch-images/ch03_compressed/25.webp\" width=\"400px\">\n",
        "\n",
        "- The main idea behind multi-head attention is to run the attention mechanism multiple times (in parallel) with different, learned linear projections. This allows the model to jointly attend to information from different representation subspaces at different positions."
      ]
    },
    {
      "cell_type": "code",
      "execution_count": 36,
      "id": "b9a66e11-7105-4bb4-be84-041f1a1f3bd2",
      "metadata": {
        "id": "b9a66e11-7105-4bb4-be84-041f1a1f3bd2",
        "outputId": "543ee7c5-8185-4f79-a839-6a8fb92766a3",
        "colab": {
          "base_uri": "https://localhost:8080/"
        }
      },
      "outputs": [
        {
          "output_type": "stream",
          "name": "stdout",
          "text": [
            "tensor([[[-0.4519,  0.2216,  0.4772,  0.1063],\n",
            "         [-0.5874,  0.0058,  0.5891,  0.3257],\n",
            "         [-0.6300, -0.0632,  0.6202,  0.3860],\n",
            "         [-0.5675, -0.0843,  0.5478,  0.3589],\n",
            "         [-0.5526, -0.0981,  0.5321,  0.3428],\n",
            "         [-0.5299, -0.1081,  0.5077,  0.3493]],\n",
            "\n",
            "        [[-0.4519,  0.2216,  0.4772,  0.1063],\n",
            "         [-0.5874,  0.0058,  0.5891,  0.3257],\n",
            "         [-0.6300, -0.0632,  0.6202,  0.3860],\n",
            "         [-0.5675, -0.0843,  0.5478,  0.3589],\n",
            "         [-0.5526, -0.0981,  0.5321,  0.3428],\n",
            "         [-0.5299, -0.1081,  0.5077,  0.3493]]], grad_fn=<CatBackward0>)\n",
            "context_vecs.shape: torch.Size([2, 6, 4])\n"
          ]
        }
      ],
      "source": [
        "class MultiHeadAttentionWrapper(nn.Module):\n",
        "\n",
        "    def __init__(self, d_in, d_out, context_length, dropout, num_heads, qkv_bias=False):\n",
        "        super().__init__()\n",
        "        self.heads = nn.ModuleList(\n",
        "            [CausalAttention(d_in, d_out, context_length, dropout, qkv_bias)\n",
        "             for _ in range(num_heads)]\n",
        "        )\n",
        "\n",
        "    def forward(self, x):\n",
        "        return torch.cat([head(x) for head in self.heads], dim=-1)\n",
        "\n",
        "\n",
        "torch.manual_seed(123)\n",
        "\n",
        "context_length = batch.shape[1] # This is the number of tokens\n",
        "d_in, d_out = 3, 2\n",
        "mha = MultiHeadAttentionWrapper(\n",
        "    d_in, d_out, context_length, 0.0, num_heads=2\n",
        ")\n",
        "\n",
        "context_vecs = mha(batch)\n",
        "\n",
        "print(context_vecs)\n",
        "print(\"context_vecs.shape:\", context_vecs.shape)"
      ]
    },
    {
      "cell_type": "markdown",
      "id": "193d3d2b-2578-40ba-b791-ea2d49328e48",
      "metadata": {
        "id": "193d3d2b-2578-40ba-b791-ea2d49328e48"
      },
      "source": [
        "- In the implementation above, the embedding dimension is 4, because we `d_out=2` as the embedding dimension for the key, query, and value vectors as well as the context vector. And since we have 2 attention heads, we have the output embedding dimension 2*2=4"
      ]
    },
    {
      "cell_type": "markdown",
      "id": "6836b5da-ef82-4b4c-bda1-72a462e48d4e",
      "metadata": {
        "id": "6836b5da-ef82-4b4c-bda1-72a462e48d4e"
      },
      "source": [
        "### 3.6.2 Implementing multi-head attention with weight splits"
      ]
    },
    {
      "cell_type": "markdown",
      "id": "f4b48d0d-71ba-4fa0-b714-ca80cabcb6f7",
      "metadata": {
        "id": "f4b48d0d-71ba-4fa0-b714-ca80cabcb6f7"
      },
      "source": [
        "- While the above is an intuitive and fully functional implementation of multi-head attention (wrapping the single-head attention `CausalAttention` implementation from earlier), we can write a stand-alone class called `MultiHeadAttention` to achieve the same\n",
        "\n",
        "- We don't concatenate single attention heads for this stand-alone `MultiHeadAttention` class\n",
        "- Instead, we create single W_query, W_key, and W_value weight matrices and then split those into individual matrices for each attention head:"
      ]
    },
    {
      "cell_type": "code",
      "execution_count": 37,
      "id": "110b0188-6e9e-4e56-a988-10523c6c8538",
      "metadata": {
        "id": "110b0188-6e9e-4e56-a988-10523c6c8538",
        "outputId": "6e961f8e-3b4c-4f96-b349-a0c31acab661",
        "colab": {
          "base_uri": "https://localhost:8080/"
        }
      },
      "outputs": [
        {
          "output_type": "stream",
          "name": "stdout",
          "text": [
            "tensor([[[0.3190, 0.4858],\n",
            "         [0.2943, 0.3897],\n",
            "         [0.2856, 0.3593],\n",
            "         [0.2693, 0.3873],\n",
            "         [0.2639, 0.3928],\n",
            "         [0.2575, 0.4028]],\n",
            "\n",
            "        [[0.3190, 0.4858],\n",
            "         [0.2943, 0.3897],\n",
            "         [0.2856, 0.3593],\n",
            "         [0.2693, 0.3873],\n",
            "         [0.2639, 0.3928],\n",
            "         [0.2575, 0.4028]]], grad_fn=<ViewBackward0>)\n",
            "context_vecs.shape: torch.Size([2, 6, 2])\n"
          ]
        }
      ],
      "source": [
        "class MultiHeadAttention(nn.Module):\n",
        "    def __init__(self, d_in, d_out, context_length, dropout, num_heads, qkv_bias=False):\n",
        "        super().__init__()\n",
        "        assert (d_out % num_heads == 0), \\\n",
        "            \"d_out must be divisible by num_heads\"\n",
        "\n",
        "        self.d_out = d_out\n",
        "        self.num_heads = num_heads\n",
        "        self.head_dim = d_out // num_heads # Reduce the projection dim to match desired output dim\n",
        "\n",
        "        self.W_query = nn.Linear(d_in, d_out, bias=qkv_bias)\n",
        "        self.W_key = nn.Linear(d_in, d_out, bias=qkv_bias)\n",
        "        self.W_value = nn.Linear(d_in, d_out, bias=qkv_bias)\n",
        "        self.out_proj = nn.Linear(d_out, d_out)  # Linear layer to combine head outputs\n",
        "        self.dropout = nn.Dropout(dropout)\n",
        "        self.register_buffer(\n",
        "            \"mask\",\n",
        "            torch.triu(torch.ones(context_length, context_length),\n",
        "                       diagonal=1)\n",
        "        )\n",
        "\n",
        "    def forward(self, x):\n",
        "        b, num_tokens, d_in = x.shape\n",
        "\n",
        "        keys = self.W_key(x) # Shape: (b, num_tokens, d_out)\n",
        "        queries = self.W_query(x)\n",
        "        values = self.W_value(x)\n",
        "\n",
        "        # We implicitly split the matrix by adding a `num_heads` dimension\n",
        "        # Unroll last dim: (b, num_tokens, d_out) -> (b, num_tokens, num_heads, head_dim)\n",
        "        keys = keys.view(b, num_tokens, self.num_heads, self.head_dim)\n",
        "        values = values.view(b, num_tokens, self.num_heads, self.head_dim)\n",
        "        queries = queries.view(b, num_tokens, self.num_heads, self.head_dim)\n",
        "\n",
        "        # Transpose: (b, num_tokens, num_heads, head_dim) -> (b, num_heads, num_tokens, head_dim)\n",
        "        keys = keys.transpose(1, 2)\n",
        "        queries = queries.transpose(1, 2)\n",
        "        values = values.transpose(1, 2)\n",
        "\n",
        "        # Compute scaled dot-product attention (aka self-attention) with a causal mask\n",
        "        attn_scores = queries @ keys.transpose(2, 3)  # Dot product for each head\n",
        "\n",
        "        # Original mask truncated to the number of tokens and converted to boolean\n",
        "        mask_bool = self.mask.bool()[:num_tokens, :num_tokens]\n",
        "\n",
        "        # Use the mask to fill attention scores\n",
        "        attn_scores.masked_fill_(mask_bool, -torch.inf)\n",
        "\n",
        "        attn_weights = torch.softmax(attn_scores / keys.shape[-1]**0.5, dim=-1)\n",
        "        attn_weights = self.dropout(attn_weights)\n",
        "\n",
        "        # Shape: (b, num_tokens, num_heads, head_dim)\n",
        "        context_vec = (attn_weights @ values).transpose(1, 2)\n",
        "\n",
        "        # Combine heads, where self.d_out = self.num_heads * self.head_dim\n",
        "        context_vec = context_vec.contiguous().view(b, num_tokens, self.d_out)\n",
        "        context_vec = self.out_proj(context_vec) # optional projection\n",
        "\n",
        "        return context_vec\n",
        "\n",
        "torch.manual_seed(123)\n",
        "\n",
        "batch_size, context_length, d_in = batch.shape\n",
        "d_out = 2\n",
        "mha = MultiHeadAttention(d_in, d_out, context_length, 0.0, num_heads=2)\n",
        "\n",
        "context_vecs = mha(batch)\n",
        "\n",
        "print(context_vecs)\n",
        "print(\"context_vecs.shape:\", context_vecs.shape)"
      ]
    },
    {
      "cell_type": "markdown",
      "id": "d334dfb5-2b6c-4c33-82d5-b4e9db5867bb",
      "metadata": {
        "id": "d334dfb5-2b6c-4c33-82d5-b4e9db5867bb"
      },
      "source": [
        "- Note that the above is essentially a rewritten version of `MultiHeadAttentionWrapper` that is more efficient\n",
        "- The resulting output looks a bit different since the random weight initializations differ, but both are fully functional implementations that can be used in the GPT class we will implement in the upcoming chapters\n",
        "- Note that in addition, we added a linear projection layer (`self.out_proj `) to the `MultiHeadAttention` class above. This is simply a linear transformation that doesn't change the dimensions. It's a standard convention to use such a projection layer in LLM implementation, but it's not strictly necessary (recent research has shown that it can be removed without affecting the modeling performance; see the further reading section at the end of this chapter)\n"
      ]
    },
    {
      "cell_type": "markdown",
      "id": "dbe5d396-c990-45dc-9908-2c621461f851",
      "metadata": {
        "id": "dbe5d396-c990-45dc-9908-2c621461f851"
      },
      "source": [
        "<img src=\"https://sebastianraschka.com/images/LLMs-from-scratch-images/ch03_compressed/26.webp\" width=\"400px\">"
      ]
    },
    {
      "cell_type": "markdown",
      "id": "8b0ed78c-e8ac-4f8f-a479-a98242ae8f65",
      "metadata": {
        "id": "8b0ed78c-e8ac-4f8f-a479-a98242ae8f65"
      },
      "source": [
        "- Note that if you are interested in a compact and efficient implementation of the above, you can also consider the [`torch.nn.MultiheadAttention`](https://pytorch.org/docs/stable/generated/torch.nn.MultiheadAttention.html) class in PyTorch"
      ]
    },
    {
      "cell_type": "markdown",
      "id": "363701ad-2022-46c8-9972-390d2a2b9911",
      "metadata": {
        "id": "363701ad-2022-46c8-9972-390d2a2b9911"
      },
      "source": [
        "- Since the above implementation may look a bit complex at first glance, let's look at what happens when executing `attn_scores = queries @ keys.transpose(2, 3)`:"
      ]
    },
    {
      "cell_type": "code",
      "execution_count": 38,
      "id": "e8cfc1ae-78ab-4faa-bc73-98bd054806c9",
      "metadata": {
        "id": "e8cfc1ae-78ab-4faa-bc73-98bd054806c9",
        "outputId": "b4ecba44-4663-4afd-8745-a3586106adfc",
        "colab": {
          "base_uri": "https://localhost:8080/"
        }
      },
      "outputs": [
        {
          "output_type": "stream",
          "name": "stdout",
          "text": [
            "tensor([[[[1.3208, 1.1631, 1.2879],\n",
            "          [1.1631, 2.2150, 1.8424],\n",
            "          [1.2879, 1.8424, 2.0402]],\n",
            "\n",
            "         [[0.4391, 0.7003, 0.5903],\n",
            "          [0.7003, 1.3737, 1.0620],\n",
            "          [0.5903, 1.0620, 0.9912]]]])\n"
          ]
        }
      ],
      "source": [
        "# (b, num_heads, num_tokens, head_dim) = (1, 2, 3, 4)\n",
        "a = torch.tensor([[[[0.2745, 0.6584, 0.2775, 0.8573],\n",
        "                    [0.8993, 0.0390, 0.9268, 0.7388],\n",
        "                    [0.7179, 0.7058, 0.9156, 0.4340]],\n",
        "\n",
        "                   [[0.0772, 0.3565, 0.1479, 0.5331],\n",
        "                    [0.4066, 0.2318, 0.4545, 0.9737],\n",
        "                    [0.4606, 0.5159, 0.4220, 0.5786]]]])\n",
        "\n",
        "print(a @ a.transpose(2, 3))"
      ]
    },
    {
      "cell_type": "markdown",
      "id": "0587b946-c8f2-4888-adbf-5a5032fbfd7b",
      "metadata": {
        "id": "0587b946-c8f2-4888-adbf-5a5032fbfd7b"
      },
      "source": [
        "- In this case, the matrix multiplication implementation in PyTorch will handle the 4-dimensional input tensor so that the matrix multiplication is carried out between the 2 last dimensions (num_tokens, head_dim) and then repeated for the individual heads\n",
        "\n",
        "- For instance, the following becomes a more compact way to compute the matrix multiplication for each head separately:"
      ]
    },
    {
      "cell_type": "code",
      "execution_count": 39,
      "id": "053760f1-1a02-42f0-b3bf-3d939e407039",
      "metadata": {
        "id": "053760f1-1a02-42f0-b3bf-3d939e407039",
        "outputId": "28be8d47-1f96-448c-e735-9de1161ad0cd",
        "colab": {
          "base_uri": "https://localhost:8080/"
        }
      },
      "outputs": [
        {
          "output_type": "stream",
          "name": "stdout",
          "text": [
            "First head:\n",
            " tensor([[1.3208, 1.1631, 1.2879],\n",
            "        [1.1631, 2.2150, 1.8424],\n",
            "        [1.2879, 1.8424, 2.0402]])\n",
            "\n",
            "Second head:\n",
            " tensor([[0.4391, 0.7003, 0.5903],\n",
            "        [0.7003, 1.3737, 1.0620],\n",
            "        [0.5903, 1.0620, 0.9912]])\n"
          ]
        }
      ],
      "source": [
        "first_head = a[0, 0, :, :]\n",
        "first_res = first_head @ first_head.T\n",
        "print(\"First head:\\n\", first_res)\n",
        "\n",
        "second_head = a[0, 1, :, :]\n",
        "second_res = second_head @ second_head.T\n",
        "print(\"\\nSecond head:\\n\", second_res)"
      ]
    },
    {
      "cell_type": "markdown",
      "id": "dec671bf-7938-4304-ad1e-75d9920e7f43",
      "metadata": {
        "id": "dec671bf-7938-4304-ad1e-75d9920e7f43"
      },
      "source": [
        "# Summary and takeaways"
      ]
    },
    {
      "cell_type": "markdown",
      "id": "fa3e4113-ffca-432c-b3ec-7a50bd15da25",
      "metadata": {
        "id": "fa3e4113-ffca-432c-b3ec-7a50bd15da25"
      },
      "source": [
        "- See the [./multihead-attention.ipynb](./multihead-attention.ipynb) code notebook, which is a concise version of the data loader (chapter 2) plus the multi-head attention class that we implemented in this chapter and will need for training the GPT model in upcoming chapters\n",
        "- You can find the exercise solutions in [./exercise-solutions.ipynb](./exercise-solutions.ipynb)"
      ]
    }
  ],
  "metadata": {
    "kernelspec": {
      "display_name": "Python 3 (ipykernel)",
      "language": "python",
      "name": "python3"
    },
    "language_info": {
      "codemirror_mode": {
        "name": "ipython",
        "version": 3
      },
      "file_extension": ".py",
      "mimetype": "text/x-python",
      "name": "python",
      "nbconvert_exporter": "python",
      "pygments_lexer": "ipython3",
      "version": "3.11.4"
    },
    "colab": {
      "provenance": []
    }
  },
  "nbformat": 4,
  "nbformat_minor": 5
}